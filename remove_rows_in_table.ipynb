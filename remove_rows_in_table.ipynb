{
 "cells": [
  {
   "cell_type": "code",
   "execution_count": 4,
   "metadata": {},
   "outputs": [],
   "source": [
    "from astropy.table import Table\n",
    "import Paths.Paths as paths\n",
    "import numpy as np\n",
    "Path = paths.filepaths()\n",
    "\n",
    "w51e_selected = np.delete(np.arange(137),[121,125,126,130,131,132,134,135,136]) #delete overlapped objects\n",
    "\n",
    "catalog_w51e_yso = Table.read(Path.w51e_dendro_matched_catalog_old ,format='fits')\n",
    "catalog_w51e_yso = catalog_w51e_yso[w51e_selected]\n",
    "\n",
    "catalog_w51e_yso.write(Path.w51e_dendro_matched_catalog ,format='fits',overwrite=True)\n",
    "\n",
    "w51e_b6_flux_file = Table.read(Path.w51e_b6_flux_old, format='fits')\n",
    "w51e_b6_flux_file = w51e_b6_flux_file[w51e_selected]\n",
    "w51e_b3_flux_file = Table.read(Path.w51e_b3_flux_old, format='fits')\n",
    "w51e_b3_flux_file = w51e_b3_flux_file[w51e_selected]\n",
    "w51e_b6_conv_flux_file = Table.read(Path.w51e_b6_conv_flux_old, format='fits')\n",
    "w51e_b6_conv_flux_file = w51e_b6_conv_flux_file[w51e_selected]\n",
    "\n",
    "w51e_b6_flux_file.write(Path.w51e_b6_flux, format='fits', overwrite=True)\n",
    "w51e_b3_flux_file.write(Path.w51e_b3_flux, format='fits', overwrite=True)\n",
    "w51e_b6_conv_flux_file.write(Path.w51e_b6_conv_flux, format='fits', overwrite=True)\n"
   ]
  }
 ],
 "metadata": {
  "kernelspec": {
   "display_name": "base",
   "language": "python",
   "name": "python3"
  },
  "language_info": {
   "codemirror_mode": {
    "name": "ipython",
    "version": 3
   },
   "file_extension": ".py",
   "mimetype": "text/x-python",
   "name": "python",
   "nbconvert_exporter": "python",
   "pygments_lexer": "ipython3",
   "version": "3.9.12"
  }
 },
 "nbformat": 4,
 "nbformat_minor": 2
}
