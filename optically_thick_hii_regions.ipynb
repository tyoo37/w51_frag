{
 "cells": [
  {
   "cell_type": "code",
   "execution_count": 2,
   "metadata": {},
   "outputs": [
    {
     "name": "stdout",
     "output_type": "stream",
     "text": [
      "382.0122398822093 Jy / arcsec2\n",
      "62.45791801023115 Jy / arcsec2\n",
      "10000.000000000002 K\n",
      "9999.999999999998 K\n"
     ]
    },
    {
     "name": "stdout",
     "output_type": "stream",
     "text": [
      "0.23671398129660687 Jy\n",
      "0.19570803631829198 Jy\n"
     ]
    }
   ],
   "source": [
    "import astropy.units as u\n",
    "import numpy as np\n",
    "import astropy.constants as c\n",
    "import astropy.io.fits as fits\n",
    "import Paths.Paths as paths\n",
    "from radio_beam import Beam\n",
    "\n",
    "Path = paths.filepaths()\n",
    "T=1e4*u.K\n",
    "nu_b3 = 93*u.GHz \n",
    "nu_b6 = 230*u.GHz\n",
    "S_b6 = 2 * c.k_B * T * nu_b6**2 / c.c**2 /u.sr\n",
    "S_b3 = 2 * c.k_B * T * nu_b3**2 / c.c**2 /u.sr\n",
    "equiv_b3 = u.brightness_temperature(nu_b3)\n",
    "equiv_b6 = u.brightness_temperature(nu_b6)\n",
    "\n",
    "print(S_b6.to(u.Jy/u.arcsec**2))\n",
    "print(S_b3.to(u.Jy/u.arcsec**2))\n",
    "print(S_b6.to(u.K, equivalencies=equiv_b6))\n",
    "print(S_b3.to(u.K, equivalencies=equiv_b3))\n",
    "\n",
    "hdr_high_res_b3 = fits.getheader(Path.w51e_b3_tt0)\n",
    "hdr_high_res_b6 = fits.getheader(Path.w51e_b6_cont)\n",
    "\n",
    "my_beam_b3 = Beam.from_fits_header(hdr_high_res_b3) \n",
    "my_beam_b6 = Beam.from_fits_header(hdr_high_res_b6) \n",
    "beam_area_b3 = my_beam_b3.sr\n",
    "beam_area_b6 = my_beam_b6.sr\n",
    "\n",
    "S_b6_beam = S_b6 * beam_area_b6\n",
    "S_b3_beam = S_b3 * beam_area_b3\n",
    "print(S_b6_beam.to(u.Jy))\n",
    "print(S_b3_beam.to(u.Jy))\n",
    "\n"
   ]
  }
 ],
 "metadata": {
  "kernelspec": {
   "display_name": "base",
   "language": "python",
   "name": "python3"
  },
  "language_info": {
   "codemirror_mode": {
    "name": "ipython",
    "version": 3
   },
   "file_extension": ".py",
   "mimetype": "text/x-python",
   "name": "python",
   "nbconvert_exporter": "python",
   "pygments_lexer": "ipython3",
   "version": "3.9.12"
  }
 },
 "nbformat": 4,
 "nbformat_minor": 2
}
