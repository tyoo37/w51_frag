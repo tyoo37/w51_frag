{
 "cells": [
  {
   "cell_type": "code",
   "execution_count": 1,
   "id": "d1322361-a419-4217-9661-96e114a7e734",
   "metadata": {},
   "outputs": [
    {
     "name": "stdout",
     "output_type": "stream",
     "text": [
      "[[44. 45.]\n",
      " [54. 55.]]\n",
      "[[21. 22. 23.]\n",
      " [31. 32. 33.]\n",
      " [41. 42. 43.]]\n"
     ]
    }
   ],
   "source": [
    "from dendrocat import RadioSource\n",
    "from astropy.io import fits\n",
    "from spectral_cube import SpectralCube\n",
    "import matplotlib.pyplot as plt\n",
    "from matplotlib.colors import LogNorm\n",
    "import numpy as np\n",
    "import sys\n",
    "import importlib\n",
    "from astropy.wcs import WCS\n",
    "from astropy.nddata.utils import Cutout2D\n",
    "from matplotlib.lines import Line2D\n",
    "\n",
    "\n",
    "data = np.arange(100.).reshape(10, 10)\n",
    "cutout1 = Cutout2D(data, (5, 5), (2, 2))\n",
    "print(cutout1.data) \n",
    "cutout1 = Cutout2D(data, (2.3, 2.51), (3., 3.))\n",
    "print(cutout1.data) \n",
    "#importlib.reload(dendrocat)\n",
    "W51b6 = '/orange/adamginsburg/w51/TaehwaYoo/2015.1.01596.S_W51_B6_LB/continuum_images/'\n",
    "W51cont='/orange/adamginsburg/w51/TaehwaYoo/b6contfits/'\n",
    "w51e2_b6_briggs=W51cont+'W51e2_cont_bigbriggs.image.fits'\n",
    "w51e2_b6_robust0=W51cont+'W51e2_cont_big_robust0.image.fits'\n",
    "w51e2_b6_uniform=W51cont+'W51e2_cont_biguniform.image.fits'\n",
    "w51e2_b6_superuniform=W51cont+'W51e2_cont_bigsuperuniform.image.fits'\n",
    "\n",
    "w51n_b6_briggs = W51cont+'W51n_cont_bigbriggs.image.fits'\n",
    "w51n_b6_robust0 = W51cont+'w51n_cont_big_robust0.image.fits'\n",
    "w51n_b6_uniform = W51cont+'W51n_cont_biguniform.image.fits'\n",
    "w51n_b6_superuniform = W51cont+'W51n_cont_bigsuperuniform.image.fits'\n",
    "w51n_b6_natural = W51cont+'W51n_cont_bignatural.image.fits'\n",
    "\n",
    "W51b3 = '/orange/adamginsburg/w51/TaehwaYoo/2017.1.00293.S_W51_B3_LB/may2021_successful_imaging/'\n",
    "\n",
    "w51n_b3_tt0 = W51b3+'w51n.spw0thru19.14500.robust0.thr0.075mJy.mfs.I.startmod.selfcal7.image.tt0.pbcor.fits'\n",
    "\n",
    "w51conv = '/orange/adamginsburg/w51/TaehwaYoo/convolved/'\n",
    "w51n_b6_conv = w51conv + 'w51n_cont_bigbriggs.image.convB3.fits'\n",
    "w51n_b3_conv = w51conv + 'w51e2.spw0thru19.14500.robust0.thr0.075mJy.mfs.I.startmod.selfcal7.image.tt0.pbcor.convB6.fits'"
   ]
  },
  {
   "cell_type": "code",
   "execution_count": 6,
   "id": "e0651dff-5fc7-4b6d-bdbf-4cecc7899911",
   "metadata": {},
   "outputs": [
    {
     "name": "stdout",
     "output_type": "stream",
     "text": [
      "0.0050000000000004 arcsec\n",
      "0.0050000000000004 arcsec\n",
      "0.006999999999998401 arcsec\n"
     ]
    }
   ],
   "source": [
    "def pixel_scale(imagefile):\n",
    "    from astropy.io import fits\n",
    "    from astropy.wcs import WCS\n",
    "\n",
    "    fitsdata = fits.open(imagefile)\n",
    "    hdr = fits.getheader(imagefile)\n",
    "    wcsHR = WCS(hdr,naxis=2)\n",
    "    scale = wcsHR.proj_plane_pixel_scales()[0]\n",
    "\n",
    "    return scale\n",
    "import astropy.units as u\n",
    "print(pixel_scale(w51e2_b6_briggs).to(u.arcsec))\n",
    "print(pixel_scale(w51n_b6_briggs).to(u.arcsec))\n",
    "\n",
    "print(pixel_scale(w51n_b3_tt0).to(u.arcsec))\n"
   ]
  },
  {
   "cell_type": "code",
   "execution_count": null,
   "id": "f8185e6b-11db-4453-b8c4-1ec5b06c8abe",
   "metadata": {},
   "outputs": [],
   "source": []
  },
  {
   "cell_type": "code",
   "execution_count": 6,
   "id": "41fc17a5-dd16-4fde-bcb9-acc934c09353",
   "metadata": {},
   "outputs": [
    {
     "name": "stdout",
     "output_type": "stream",
     "text": [
      "[<EllipseSkyRegion(center=<SkyCoord (ICRS): (ra, dec) in deg\n",
      "    (290.93225147, 14.50594301)>, width=0.154 arcsec, height=0.154 arcsec, angle=0.0 deg)>, <EllipseSkyRegion(center=<SkyCoord (ICRS): (ra, dec) in deg\n",
      "    (290.93235914, 14.50620495)>, width=0.125 arcsec, height=0.125 arcsec, angle=0.0 deg)>, <EllipseSkyRegion(center=<SkyCoord (ICRS): (ra, dec) in deg\n",
      "    (290.93242885, 14.50623903)>, width=0.1396 arcsec, height=0.1396 arcsec, angle=0.0 deg)>, <EllipseSkyRegion(center=<SkyCoord (ICRS): (ra, dec) in deg\n",
      "    (290.932482, 14.50621966)>, width=0.1444 arcsec, height=0.1444 arcsec, angle=0.0 deg)>, <EllipseSkyRegion(center=<SkyCoord (ICRS): (ra, dec) in deg\n",
      "    (290.93257992, 14.50649955)>, width=0.1204 arcsec, height=0.1204 arcsec, angle=0.0 deg)>, <EllipseSkyRegion(center=<SkyCoord (ICRS): (ra, dec) in deg\n",
      "    (290.93372048, 14.50703559)>, width=0.1696 arcsec, height=0.1696 arcsec, angle=0.0 deg)>, <EllipseSkyRegion(center=<SkyCoord (ICRS): (ra, dec) in deg\n",
      "    (290.9334727, 14.50754819)>, width=0.2004 arcsec, height=0.2004 arcsec, angle=0.0 deg)>, <EllipseSkyRegion(center=<SkyCoord (ICRS): (ra, dec) in deg\n",
      "    (290.93325516, 14.50726334)>, width=0.1234 arcsec, height=0.1234 arcsec, angle=0.0 deg)>, <EllipseSkyRegion(center=<SkyCoord (ICRS): (ra, dec) in deg\n",
      "    (290.93247126, 14.50547412)>, width=0.3012 arcsec, height=0.3012 arcsec, angle=0.0 deg)>, <EllipseSkyRegion(center=<SkyCoord (ICRS): (ra, dec) in deg\n",
      "    (290.93388822, 14.50927323)>, width=0.087 arcsec, height=0.087 arcsec, angle=0.0 deg)>, <EllipseSkyRegion(center=<SkyCoord (ICRS): (ra, dec) in deg\n",
      "    (290.93364821, 14.50930836)>, width=0.2856 arcsec, height=0.1388 arcsec, angle=0.0 deg)>, <EllipseSkyRegion(center=<SkyCoord (ICRS): (ra, dec) in deg\n",
      "    (290.93330049, 14.50920522)>, width=0.1414 arcsec, height=0.1414 arcsec, angle=0.0 deg)>, <EllipseSkyRegion(center=<SkyCoord (ICRS): (ra, dec) in deg\n",
      "    (290.93274477, 14.50756531)>, width=0.0984 arcsec, height=0.0984 arcsec, angle=0.0 deg)>, <EllipseSkyRegion(center=<SkyCoord (ICRS): (ra, dec) in deg\n",
      "    (290.93288782, 14.50757959)>, width=0.1386 arcsec, height=0.1386 arcsec, angle=0.0 deg)>, <EllipseSkyRegion(center=<SkyCoord (ICRS): (ra, dec) in deg\n",
      "    (290.93294363, 14.50771188)>, width=0.1074 arcsec, height=0.1074 arcsec, angle=0.0 deg)>, <EllipseSkyRegion(center=<SkyCoord (ICRS): (ra, dec) in deg\n",
      "    (290.93290899, 14.50764853)>, width=0.1968 arcsec, height=0.1968 arcsec, angle=0.0 deg)>, <EllipseSkyRegion(center=<SkyCoord (ICRS): (ra, dec) in deg\n",
      "    (290.93287435, 14.5077392)>, width=0.143 arcsec, height=0.1162 arcsec, angle=0.0 deg)>, <EllipseSkyRegion(center=<SkyCoord (ICRS): (ra, dec) in deg\n",
      "    (290.93283394, 14.50789757)>, width=0.085 arcsec, height=0.085 arcsec, angle=0.0 deg)>, <EllipseSkyRegion(center=<SkyCoord (ICRS): (ra, dec) in deg\n",
      "    (290.93296031, 14.50782366)>, width=0.143 arcsec, height=0.1342 arcsec, angle=0.0 deg)>, <EllipseSkyRegion(center=<SkyCoord (ICRS): (ra, dec) in deg\n",
      "    (290.93153738, 14.50993051)>, width=0.1696 arcsec, height=0.1696 arcsec, angle=0.0 deg)>, <EllipseSkyRegion(center=<SkyCoord (ICRS): (ra, dec) in deg\n",
      "    (290.93143626, 14.50989623)>, width=0.1428 arcsec, height=0.1428 arcsec, angle=0.0 deg)>, <EllipseSkyRegion(center=<SkyCoord (ICRS): (ra, dec) in deg\n",
      "    (290.93118668, 14.50999907)>, width=0.1278 arcsec, height=0.1278 arcsec, angle=0.0 deg)>, <EllipseSkyRegion(center=<SkyCoord (ICRS): (ra, dec) in deg\n",
      "    (290.93291816, 14.51032246)>, width=0.1226 arcsec, height=0.1226 arcsec, angle=0.0 deg)>, <EllipseSkyRegion(center=<SkyCoord (ICRS): (ra, dec) in deg\n",
      "    (290.93265247, 14.51012691)>, width=0.1518 arcsec, height=0.1286 arcsec, angle=0.0 deg)>, <EllipseSkyRegion(center=<SkyCoord (ICRS): (ra, dec) in deg\n",
      "    (290.93307825, 14.51004576)>, width=0.1518 arcsec, height=0.1518 arcsec, angle=0.0 deg)>, <EllipseSkyRegion(center=<SkyCoord (ICRS): (ra, dec) in deg\n",
      "    (290.93305897, 14.51015044)>, width=0.1928 arcsec, height=0.1928 arcsec, angle=0.0 deg)>, <EllipseSkyRegion(center=<SkyCoord (ICRS): (ra, dec) in deg\n",
      "    (290.93282932, 14.50999302)>, width=0.1928 arcsec, height=0.1928 arcsec, angle=0.0 deg)>, <EllipseSkyRegion(center=<SkyCoord (ICRS): (ra, dec) in deg\n",
      "    (290.932774, 14.51000114)>, width=0.1812 arcsec, height=0.1812 arcsec, angle=0.0 deg)>, <EllipseSkyRegion(center=<SkyCoord (ICRS): (ra, dec) in deg\n",
      "    (290.93292235, 14.51015287)>, width=0.1402 arcsec, height=0.1402 arcsec, angle=0.0 deg)>, <EllipseSkyRegion(center=<SkyCoord (ICRS): (ra, dec) in deg\n",
      "    (290.93300197, 14.51018614)>, width=0.1344 arcsec, height=0.1344 arcsec, angle=0.0 deg)>, <EllipseSkyRegion(center=<SkyCoord (ICRS): (ra, dec) in deg\n",
      "    (290.93330298, 14.5098017)>, width=0.1286 arcsec, height=0.1286 arcsec, angle=0.0 deg)>, <EllipseSkyRegion(center=<SkyCoord (ICRS): (ra, dec) in deg\n",
      "    (290.93307017, 14.50976514)>, width=0.2804 arcsec, height=0.2804 arcsec, angle=0.0 deg)>, <EllipseSkyRegion(center=<SkyCoord (ICRS): (ra, dec) in deg\n",
      "    (290.932719, 14.5112362)>, width=0.214 arcsec, height=0.214 arcsec, angle=0.0 deg)>, <EllipseSkyRegion(center=<SkyCoord (ICRS): (ra, dec) in deg\n",
      "    (290.93303423, 14.51039703)>, width=0.1286 arcsec, height=0.1286 arcsec, angle=0.0 deg)>, <EllipseSkyRegion(center=<SkyCoord (ICRS): (ra, dec) in deg\n",
      "    (290.93340916, 14.50702431)>, width=0.242 arcsec, height=0.242 arcsec, angle=0.0 deg)>, <EllipseSkyRegion(center=<SkyCoord (ICRS): (ra, dec) in deg\n",
      "    (290.93320565, 14.50959147)>, width=1.155 arcsec, height=1.023 arcsec, angle=0.0 deg)>, <EllipseSkyRegion(center=<SkyCoord (ICRS): (ra, dec) in deg\n",
      "    (290.93294418, 14.50959037)>, width=0.5692 arcsec, height=0.5116 arcsec, angle=0.0 deg)>, <EllipseSkyRegion(center=<SkyCoord (ICRS): (ra, dec) in deg\n",
      "    (290.93274949, 14.50737977)>, width=0.2108 arcsec, height=0.2108 arcsec, angle=0.0 deg)>, <EllipseSkyRegion(center=<SkyCoord (ICRS): (ra, dec) in deg\n",
      "    (290.93305384, 14.51010978)>, width=0.102 arcsec, height=0.102 arcsec, angle=0.0 deg)>, <EllipseSkyRegion(center=<SkyCoord (ICRS): (ra, dec) in deg\n",
      "    (290.93302898, 14.5101749)>, width=0.102 arcsec, height=0.102 arcsec, angle=0.0 deg)>, <EllipseSkyRegion(center=<SkyCoord (ICRS): (ra, dec) in deg\n",
      "    (290.93259906, 14.51007439)>, width=0.102 arcsec, height=0.102 arcsec, angle=0.0 deg)>]\n"
     ]
    }
   ],
   "source": [
    "regions = Regions.read(direc+'candidate1', format='crtf')\n",
    "print(regions)"
   ]
  },
  {
   "cell_type": "code",
   "execution_count": null,
   "id": "effde362-8044-4867-b8d0-729bbcbb0392",
   "metadata": {},
   "outputs": [],
   "source": []
  }
 ],
 "metadata": {
  "kernelspec": {
   "display_name": "Python 3 (ipykernel)",
   "language": "python",
   "name": "python3"
  },
  "language_info": {
   "codemirror_mode": {
    "name": "ipython",
    "version": 3
   },
   "file_extension": ".py",
   "mimetype": "text/x-python",
   "name": "python",
   "nbconvert_exporter": "python",
   "pygments_lexer": "ipython3",
   "version": "3.9.12"
  }
 },
 "nbformat": 4,
 "nbformat_minor": 5
}
