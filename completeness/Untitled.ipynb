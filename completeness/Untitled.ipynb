{
 "cells": [
  {
   "cell_type": "code",
   "execution_count": 7,
   "id": "5d1dfc89-fdac-45e1-a04b-54058773a0f5",
   "metadata": {},
   "outputs": [
    {
     "name": "stdout",
     "output_type": "stream",
     "text": [
      "<class 'numpy.ndarray'>\n"
     ]
    },
    {
     "ename": "AttributeError",
     "evalue": "'Regions' object has no attribute 'to_mask'",
     "output_type": "error",
     "traceback": [
      "\u001b[0;31m---------------------------------------------------------------------------\u001b[0m",
      "\u001b[0;31mAttributeError\u001b[0m                            Traceback (most recent call last)",
      "Input \u001b[0;32mIn [7]\u001b[0m, in \u001b[0;36m<cell line: 11>\u001b[0;34m()\u001b[0m\n\u001b[1;32m      9\u001b[0m reg2 \u001b[38;5;241m=\u001b[39m CirclePixelRegion(center\u001b[38;5;241m=\u001b[39mPixCoord(x\u001b[38;5;241m=\u001b[39m\u001b[38;5;241m10\u001b[39m, y\u001b[38;5;241m=\u001b[39m\u001b[38;5;241m10\u001b[39m), radius\u001b[38;5;241m=\u001b[39m\u001b[38;5;241m3\u001b[39m)\n\u001b[1;32m     10\u001b[0m regs \u001b[38;5;241m=\u001b[39m Regions([reg, reg2])\n\u001b[0;32m---> 11\u001b[0m \u001b[43mregs\u001b[49m\u001b[38;5;241;43m.\u001b[39;49m\u001b[43mto_mask\u001b[49m()\n",
      "\u001b[0;31mAttributeError\u001b[0m: 'Regions' object has no attribute 'to_mask'"
     ]
    }
   ],
   "source": [
    "import numpy as np\n",
    "import astropy.units as u\n",
    "from regions import Regions, PixCoord,RectanglePixelRegion, CirclePixelRegion\n",
    "\n",
    "reg = CirclePixelRegion(center=PixCoord(x=5, y=5), radius=3)\n",
    "mask = reg.to_mask()\n",
    "mask_img = mask.to_image((8,8))\n",
    "print(type(mask_img))\n",
    "reg2 = CirclePixelRegion(center=PixCoord(x=10, y=10), radius=3)\n",
    "regs = Regions([reg, reg2])\n",
    "regs.to_mask()\n"
   ]
  }
 ],
 "metadata": {
  "kernelspec": {
   "display_name": "Python 3 (ipykernel)",
   "language": "python",
   "name": "python3"
  },
  "language_info": {
   "codemirror_mode": {
    "name": "ipython",
    "version": 3
   },
   "file_extension": ".py",
   "mimetype": "text/x-python",
   "name": "python",
   "nbconvert_exporter": "python",
   "pygments_lexer": "ipython3",
   "version": "3.9.12"
  }
 },
 "nbformat": 4,
 "nbformat_minor": 5
}
