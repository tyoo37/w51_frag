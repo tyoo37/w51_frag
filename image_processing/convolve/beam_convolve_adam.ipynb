{
 "cells": [
  {
   "cell_type": "code",
   "execution_count": 11,
   "id": "1f30611c-3b53-4eaa-bb85-42ce5fbc5796",
   "metadata": {},
   "outputs": [],
   "source": [
    "from astropy.io import fits\n",
    "from radio_beam import Beam\n",
    "from astropy.wcs import WCS\n",
    "from radio_beam import Beams\n",
    "from astropy.convolution import convolve\n",
    "from spectral_cube import SpectralCube\n",
    "import matplotlib.pyplot as plt\n",
    "from matplotlib.patches import Ellipse\n",
    "from astropy import units as u\n",
    "import radio_beam\n",
    "W51b6 = '/orange/adamginsburg/w51/TaehwaYoo/2015.1.01596.S_W51_B6_LB/continuum_images/'\n",
    "W51cont='/orange/adamginsburg/w51/TaehwaYoo/b6contfits/'\n",
    "w51conv = '/orange/adamginsburg/w51/TaehwaYoo/convolved_new/'\n",
    "w51e2_b6_briggs=W51cont+'W51e2_cont_bigbriggs.image.fits'\n",
    "w51e2_b6_robust0=W51cont+'W51e2_cont_big_robust0.image.fits'\n",
    "w51e2_b6_uniform=W51cont+'W51e2_cont_biguniform.image.fits'\n",
    "w51e2_b6_superuniform=W51cont+'W51e2_cont_bigsuperuniform.image.fits'\n",
    "\n",
    "w51n_b6_briggs = W51cont+'W51n_cont_bigbriggs.image.fits'\n",
    "w51n_b6_robust0 = W51cont+'w51n_cont_big_robust0.image.fits'\n",
    "w51n_b6_uniform = W51cont+'W51n_cont_biguniform.image.fits'\n",
    "w51n_b6_superuniform = W51cont+'W51n_cont_bigsuperuniform.image.fits'\n",
    "w51n_b6_natural = W51cont+'W51n_cont_bignatural.image.fits'\n",
    "\n",
    "W51b3 = '/orange/adamginsburg/w51/TaehwaYoo/2017.1.00293.S_W51_B3_LB/may2021_successful_imaging/'\n",
    "w51n_b3_tt0 = W51b3+'w51n.spw0thru19.14500.robust0.thr0.075mJy.mfs.I.startmod.selfcal7.image.tt0.pbcor.fits'\n",
    "w51e2_b3_tt0 = W51b3+'w51e2.spw0thru19.14500.robust0.thr0.075mJy.mfs.I.startmod.selfcal7.image.tt0.pbcor.fits'\n",
    "w51_alma_imf = '/orange/adamginsburg/w51/TaehwaYoo/w51_alma_imf/'\n",
    "w51e_b3_alma_imf = '/orange/adamginsburg/w51/TaehwaYoo/w51_alma_imf/W51-E_B3_uid___A001_X1296_X10b_continuum_merged_12M_robust0_selfcal7_finaliter.image.tt0.pbcor.fits'\n",
    "w51e_b6_alma_imf = '/orange/adamginsburg/w51/TaehwaYoo/w51_alma_imf/W51-E_B6_uid___A001_X1296_X213_continuum_merged_12M_robust0_selfcal7_finaliter.image.tt0.pbcor.fits'\n",
    "w51n_b3_alma_imf = '/orange/adamginsburg/w51/TaehwaYoo/w51_alma_imf/W51-IRS2_B3_uid___A001_X1296_X18f_continuum_merged_12M_robust0_selfcal4_finaliter.image.tt0.pbcor.fits'\n",
    "w51n_b6_alma_imf = '/orange/adamginsburg/w51/TaehwaYoo/w51_alma_imf/W51-IRS2_B6_uid___A001_X1296_X187_continuum_merged_12M_robust0_selfcal9_finaliter.image.tt0.pbcor.fits'\n",
    "\n",
    "\n",
    "\n",
    "\n",
    "\n",
    "\n",
    "\n"
   ]
  },
  {
   "cell_type": "code",
   "execution_count": 18,
   "id": "e45eca16-3163-47af-b155-c23e2d52fdae",
   "metadata": {},
   "outputs": [],
   "source": [
    "def convolve_adam(b3file, b6file,outdir,label):\n",
    "    image_b3 = SpectralCube.read(b3file, use_dask=False, format='fits',allow_huge_operations=True, how='slice').minimal_subcube()\n",
    "    image_b6 = SpectralCube.read(b6file, use_dask=False, format='fits',allow_huge_operations=True, how='slice').minimal_subcube()\n",
    "    image_b3.allow_huge_operations=True\n",
    "    image_b6.allow_huge_operations=True\n",
    "\n",
    "    # Jy/beam -> Jy/sr\n",
    "    image_b3 = image_b3 * u.beam / image_b3.beam.sr\n",
    "    image_b6 = image_b6 * u.beam / image_b6.beam.sr\n",
    "    \n",
    "    hdrNB6 = fits.getheader(b6file)  \n",
    "    hdrNB3 = fits.getheader(b3file)  \n",
    "\n",
    "    beams = radio_beam.Beams(major=u.Quantity([image_b3.beam.major, image_b6.beam.major]),\n",
    "                                 minor=u.Quantity([image_b3.beam.minor, image_b6.beam.minor]),\n",
    "                                 pa=u.Quantity([image_b3.beam.pa, image_b6.beam.pa]))\n",
    "    commonbeam = radio_beam.commonbeam.commonbeam(beams)\n",
    "    \n",
    "    if image_b3.beam.sr < image_b6.beam.sr:\n",
    "        header = image_b6[0].header\n",
    "    else:\n",
    "        header = image_b3[0].header\n",
    "    image_b3_repr = image_b3[0].convolve_to(commonbeam, allow_huge=True).reproject(header)\n",
    "    fits.writeto(outdir+'/%s_B3_conv_adam.fits'%label, image_b3_repr.value, header, overwrite = True)\n",
    "\n",
    "    image_b6_repr = image_b6[0].convolve_to(commonbeam, allow_huge=True).reproject(header)\n",
    "    \n",
    "    fits.writeto(outdir+'/%s_B6_conv_adam.fits'%label, image_b6_repr.value, header, overwrite = True)\n",
    "\n",
    "    \n",
    "    \n"
   ]
  },
  {
   "cell_type": "code",
   "execution_count": 19,
   "id": "5551c3f1-14f0-4673-8b3c-ec5a326e3452",
   "metadata": {},
   "outputs": [
    {
     "name": "stderr",
     "output_type": "stream",
     "text": [
      "WARNING: StokesWarning: Cube is a Stokes cube, returning spectral cube for I component [spectral_cube.io.core]\n",
      "WARNING: StokesWarning: Cube is a Stokes cube, returning spectral cube for I component [spectral_cube.io.core]\n",
      "WARNING: PossiblySlowWarning: This function (<function BaseSpectralCube._apply_everywhere at 0x2b3f4dd633a0>) requires loading the entire cube into memory and may therefore be slow. [spectral_cube.utils]\n",
      "WARNING: PossiblySlowWarning: This function (<function BaseSpectralCube._apply_everywhere at 0x2b3f4dd633a0>) requires loading the entire cube into memory and may therefore be slow. [spectral_cube.utils]\n",
      "WARNING: WCSWarning: WCS1 is missing card PV2_1 [spectral_cube.wcs_utils]\n",
      "WARNING: WCSWarning: WCS1 is missing card PV2_2 [spectral_cube.wcs_utils]\n",
      "WARNING: WCSWarning: WCS1 is missing card PV2_1 [spectral_cube.wcs_utils]\n",
      "WARNING: WCSWarning: WCS1 is missing card PV2_2 [spectral_cube.wcs_utils]\n",
      "/home/t.yoo/anaconda3/lib/python3.9/site-packages/spectral_cube/lower_dimensional_structures.py:462: UserWarning: The given beam is identical to the current beam. Skipping convolution.\n",
      "  warnings.warn(\"The given beam is identical to the current beam. \"\n",
      "WARNING: StokesWarning: Cube is a Stokes cube, returning spectral cube for I component [spectral_cube.io.core]\n",
      "WARNING: StokesWarning: Cube is a Stokes cube, returning spectral cube for I component [spectral_cube.io.core]\n",
      "WARNING: PossiblySlowWarning: This function (<function BaseSpectralCube._apply_everywhere at 0x2b3f4dd633a0>) requires loading the entire cube into memory and may therefore be slow. [spectral_cube.utils]\n",
      "WARNING: PossiblySlowWarning: This function (<function BaseSpectralCube._apply_everywhere at 0x2b3f4dd633a0>) requires loading the entire cube into memory and may therefore be slow. [spectral_cube.utils]\n",
      "WARNING: WCSWarning: WCS1 is missing card PV2_1 [spectral_cube.wcs_utils]\n",
      "WARNING: WCSWarning: WCS1 is missing card PV2_2 [spectral_cube.wcs_utils]\n",
      "WARNING: WCSWarning: WCS1 is missing card PV2_1 [spectral_cube.wcs_utils]\n",
      "WARNING: WCSWarning: WCS1 is missing card PV2_2 [spectral_cube.wcs_utils]\n",
      "/home/t.yoo/anaconda3/lib/python3.9/site-packages/spectral_cube/lower_dimensional_structures.py:462: UserWarning: The given beam is identical to the current beam. Skipping convolution.\n",
      "  warnings.warn(\"The given beam is identical to the current beam. \"\n"
     ]
    }
   ],
   "source": [
    "convolve_adam(w51n_b3_tt0,w51n_b6_briggs,w51conv,'w51n')\n",
    "convolve_adam(w51e2_b3_tt0,w51e2_b6_briggs,w51conv,'w51e')\n"
   ]
  },
  {
   "cell_type": "code",
   "execution_count": 10,
   "id": "8a271dfb-f113-47d7-9bf3-c44ed077ec6c",
   "metadata": {},
   "outputs": [
    {
     "name": "stderr",
     "output_type": "stream",
     "text": [
      "WARNING: StokesWarning: Cube is a Stokes cube, returning spectral cube for I component [spectral_cube.io.core]\n",
      "WARNING: StokesWarning: Cube is a Stokes cube, returning spectral cube for I component [spectral_cube.io.core]\n",
      "WARNING: PossiblySlowWarning: This function (<function BaseSpectralCube._apply_everywhere at 0x2b3f4dd633a0>) requires loading the entire cube into memory and may therefore be slow. [spectral_cube.utils]\n",
      "WARNING: PossiblySlowWarning: This function (<function BaseSpectralCube._apply_everywhere at 0x2b3f4dd633a0>) requires loading the entire cube into memory and may therefore be slow. [spectral_cube.utils]\n",
      "WARNING: PossiblySlowWarning: This function (<function BaseSpectralCube._apply_everywhere at 0x2b3f4dd633a0>) requires loading the entire cube into memory and may therefore be slow. [spectral_cube.utils]\n",
      "WARNING: PossiblySlowWarning: This function (<function BaseSpectralCube._apply_everywhere at 0x2b3f4dd633a0>) requires loading the entire cube into memory and may therefore be slow. [spectral_cube.utils]\n",
      "WARNING: StokesWarning: Cube is a Stokes cube, returning spectral cube for I component [spectral_cube.io.core]\n",
      "WARNING: StokesWarning: Cube is a Stokes cube, returning spectral cube for I component [spectral_cube.io.core]\n",
      "WARNING: PossiblySlowWarning: This function (<function BaseSpectralCube._apply_everywhere at 0x2b3f4dd633a0>) requires loading the entire cube into memory and may therefore be slow. [spectral_cube.utils]\n",
      "WARNING: PossiblySlowWarning: This function (<function BaseSpectralCube._apply_everywhere at 0x2b3f4dd633a0>) requires loading the entire cube into memory and may therefore be slow. [spectral_cube.utils]\n",
      "WARNING: PossiblySlowWarning: This function (<function BaseSpectralCube._apply_everywhere at 0x2b3f4dd633a0>) requires loading the entire cube into memory and may therefore be slow. [spectral_cube.utils]\n",
      "WARNING: PossiblySlowWarning: This function (<function BaseSpectralCube._apply_everywhere at 0x2b3f4dd633a0>) requires loading the entire cube into memory and may therefore be slow. [spectral_cube.utils]\n",
      "/home/t.yoo/anaconda3/lib/python3.9/site-packages/spectral_cube/lower_dimensional_structures.py:462: UserWarning: The given beam is identical to the current beam. Skipping convolution.\n",
      "  warnings.warn(\"The given beam is identical to the current beam. \"\n"
     ]
    }
   ],
   "source": [
    "convolve_adam(w51e_b3_alma_imf, w51e_b6_alma_imf, w51_alma_imf, 'w51e')\n",
    "convolve_adam(w51n_b3_alma_imf, w51n_b6_alma_imf, w51_alma_imf, 'w51n')"
   ]
  },
  {
   "cell_type": "code",
   "execution_count": null,
   "id": "1ff43e68-f9f1-436f-bd06-7810d810f082",
   "metadata": {},
   "outputs": [],
   "source": [
    "def convolve_adam(b3file, b6file,outdir,label):\n",
    "    image_b3 = SpectralCube.read(b3file, use_dask=False, format='fits').minimal_subcube()\n",
    "    image_b6 = SpectralCube.read(b6file, use_dask=False, format='fits').minimal_subcube()\n",
    "    image_b3 = image_b3 * u.beam / image_b3.beam.sr\n",
    "    image_b6 = image_b6 * u.beam / image_b6.beam.sr\n",
    "    \n",
    "    hdrNB6 = fits.getheader(b6file)  \n",
    "    hdrNB3 = fits.getheader(b3file)  \n",
    "\n",
    "    beams = radio_beam.Beams(major=u.Quantity([image_b3.beam.major, image_b6.beam.major]),\n",
    "                                 minor=u.Quantity([image_b3.beam.minor, image_b6.beam.minor]),\n",
    "                                 pa=u.Quantity([image_b3.beam.pa, image_b6.beam.pa]))\n",
    "    commonbeam = radio_beam.commonbeam.commonbeam(beams)\n",
    "    \n",
    "    if image_b3.beam.sr < image_b6.beam.sr:\n",
    "        header = image_b6[0].header\n",
    "    else:\n",
    "        header = image_b3[0].header\n",
    "    image_b3_repr = image_b3[0].convolve_to(commonbeam, allow_huge=True).reproject(header)\n",
    "    #fits.writeto(outdir+'/%s_B3_conv_adam.fits'%label, image_b3_repr.value, header, overwrite = True)\n",
    "\n",
    "    image_b6_repr = image_b6[0].convolve_to(commonbeam, allow_huge=True).reproject(header)\n",
    "    \n",
    "    \n",
    "    \n",
    "    #fits.writeto(outdir+'/%s_B6_conv_adam.fits'%label, image_b6_repr.value, header, overwrite = True)\n",
    "\n",
    "    \n",
    "    \n"
   ]
  },
  {
   "cell_type": "code",
   "execution_count": null,
   "id": "ba6915b7-aba1-4013-ac15-072e3972af46",
   "metadata": {},
   "outputs": [],
   "source": [
    "\n",
    "\n",
    "\n"
   ]
  }
 ],
 "metadata": {
  "kernelspec": {
   "display_name": "Python 3 (ipykernel)",
   "language": "python",
   "name": "python3"
  },
  "language_info": {
   "codemirror_mode": {
    "name": "ipython",
    "version": 3
   },
   "file_extension": ".py",
   "mimetype": "text/x-python",
   "name": "python",
   "nbconvert_exporter": "python",
   "pygments_lexer": "ipython3",
   "version": "3.9.12"
  }
 },
 "nbformat": 4,
 "nbformat_minor": 5
}
