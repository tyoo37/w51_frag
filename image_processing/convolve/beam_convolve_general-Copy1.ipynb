{
 "cells": [
  {
   "cell_type": "code",
   "execution_count": 1,
   "id": "bc104da7-59ff-4070-9b0a-fa29e98aa39a",
   "metadata": {},
   "outputs": [],
   "source": [
    "from astropy.io import fits\n",
    "from radio_beam import Beam\n",
    "from astropy.wcs import WCS\n",
    "from radio_beam import Beams\n",
    "from astropy.convolution import convolve\n",
    "from spectral_cube import SpectralCube\n",
    "import matplotlib.pyplot as plt\n",
    "from matplotlib.patches import Ellipse\n",
    "\n",
    "W51b6 = '/orange/adamginsburg/w51/TaehwaYoo/2015.1.01596.S_W51_B6_LB/continuum_images/'\n",
    "W51cont='/orange/adamginsburg/w51/TaehwaYoo/b6contfits/'\n",
    "w51e2_b6_briggs=W51cont+'W51e2_cont_bigbriggs.image.fits'\n",
    "w51e2_b6_robust0=W51cont+'W51e2_cont_big_robust0.image.fits'\n",
    "w51e2_b6_uniform=W51cont+'W51e2_cont_biguniform.image.fits'\n",
    "w51e2_b6_superuniform=W51cont+'W51e2_cont_bigsuperuniform.image.fits'\n",
    "\n",
    "w51n_b6_briggs = W51cont+'W51n_cont_bigbriggs.image.fits'\n",
    "w51n_b6_robust0 = W51cont+'w51n_cont_big_robust0.image.fits'\n",
    "w51n_b6_uniform = W51cont+'W51n_cont_biguniform.image.fits'\n",
    "w51n_b6_superuniform = W51cont+'W51n_cont_bigsuperuniform.image.fits'\n",
    "w51n_b6_natural = W51cont+'W51n_cont_bignatural.image.fits'\n",
    "\n",
    "W51b3 = '/orange/adamginsburg/w51/TaehwaYoo/2017.1.00293.S_W51_B3_LB/may2021_successful_imaging/'\n",
    "w51n_b3_tt0 = W51b3+'w51n.spw0thru19.14500.robust0.thr0.075mJy.mfs.I.startmod.selfcal7.image.tt0.pbcor.fits'\n",
    "w51e_b3_tt0 = W51b3+'w51e2.spw0thru19.14500.robust0.thr0.075mJy.mfs.I.startmod.selfcal7.image.tt0.pbcor.fits'\n",
    "\n",
    "w51e_b3_alma_imf = '/orange/adamginsburg/w51/TaehwaYoo/w51_alma_imf/W51-E_B3_uid___A001_X1296_X10b_continuum_merged_12M_robust0_selfcal7_finaliter.image.tt0.pbcor.fits'\n",
    "w51e_b6_alma_imf = '/orange/adamginsburg/w51/TaehwaYoo/w51_alma_imf/W51-E_B6_uid___A001_X1296_X213_continuum_merged_12M_robust0_selfcal7_finaliter.image.tt0.pbcor.fits'\n",
    "w51n_b3_alma_imf = '/orange/adamginsburg/w51/TaehwaYoo/w51_alma_imf/W51-IRS2_B3_uid___A001_X1296_X18f_continuum_merged_12M_robust0_selfcal4_finaliter.image.tt0.pbcor.fits'\n",
    "w51n_b6_alma_imf = '/orange/adamginsburg/w51/TaehwaYoo/w51_alma_imf/W51-IRS2_B6_uid___A001_X1296_X187_continuum_merged_12M_robust0_selfcal9_finaliter.image.tt0.pbcor.fits'\n",
    "\n",
    "\n",
    "w51e_b6_calibrated_pbcor = '/orange/adamginsburg/w51/TaehwaYoo/w51e2.spw0thru19.14500.robust0.thr0.15mJy.mfs.I.startmod.selfcal7.image.tt0.pbcor.fits'\n",
    "w51n_b6_calibrated_pbcor = '/orange/adamginsburg/w51/TaehwaYoo/w51n.spw0thru19.14500.robust0.thr0.1mJy.mfs.I.startmod.selfcal7.image.tt0.pbcor.fits'\n",
    "\n",
    "\n"
   ]
  },
  {
   "cell_type": "code",
   "execution_count": 13,
   "id": "6cda6d5e-9805-4894-b852-6e8dc8a935e8",
   "metadata": {},
   "outputs": [],
   "source": [
    "def plot_ellipse(ax,b3data,b6data):\n",
    "    fitsdata_b6 = fits.open(b6data)\n",
    "    image_b6 = fitsdata_b6[0].data[0][0]\n",
    "    fitsdata_b3 = fits.open(b3data)\n",
    "    image_b3 = fitsdata_b3[0].data[0][0]\n",
    "\n",
    "    hdrNB6 = fits.getheader(b6data)  \n",
    "    hdrNB3 = fits.getheader(b3data)  \n",
    "    wcsNB6 = WCS(hdrNB6,naxis=2)\n",
    "    wcsNB3 = WCS(hdrNB3,naxis=2)\n",
    "\n",
    "    my_beamNB3 = Beam.from_fits_header(hdrNB3)\n",
    "    my_beamNB6 = Beam.from_fits_header(hdrNB6)\n",
    "\n",
    "\n",
    "    ellipse = Ellipse(xy=(0,0), width=my_beamNB3.major.value, height=my_beamNB3.minor.value, \n",
    "                            angle=my_beamNB3.pa.value, edgecolor='r', fc='None', lw=2 ,ls='dashed', label='B3')\n",
    "    ellipse2 = Ellipse(xy=(0,0), width=my_beamNB6.major.value, height=my_beamNB6.minor.value, \n",
    "                            angle=my_beamNB6.pa.value, edgecolor='k', fc='None', lw=2,label='B6')\n",
    "    ax.add_patch(ellipse)\n",
    "    ax.add_patch(ellipse2)\n",
    "\n",
    "    ax.set_xlim(-1e-4,1e-4)\n",
    "    ax.set_ylim(-1e-4,1e-4)\n",
    "    ax.legend()"
   ]
  },
  {
   "cell_type": "code",
   "execution_count": 14,
   "id": "c0ff146a-6a85-4dd6-8ea8-97fda16f11e1",
   "metadata": {},
   "outputs": [
    {
     "data": {
      "image/png": "[encoded data removed]",
      "text/plain": [
       "<Figure size 432x288 with 1 Axes>"
      ]
     },
     "metadata": {
      "needs_background": "light"
     },
     "output_type": "display_data"
    }
   ],
   "source": [
    "fig = plt.figure()\n",
    "ax1 =fig.add_axes([0,0,1,1])\n",
    "plot_ellipse(ax1,w51e_b3_tt0,w51e_b6_calibrated_pbcor)\n",
    "#plot_ellipse(ax1,w51e_b3_alma_imf,w51e_b6_alma_imf)\n",
    "\n",
    "\n",
    "\n",
    "\n",
    "\n"
   ]
  },
  {
   "cell_type": "code",
   "execution_count": 15,
   "id": "fe8f325e-6394-45b7-972a-62c2945ff546",
   "metadata": {},
   "outputs": [
    {
     "data": {
      "image/png": "[encoded data removed]",
      "text/plain": [
       "<Figure size 432x288 with 1 Axes>"
      ]
     },
     "metadata": {
      "needs_background": "light"
     },
     "output_type": "display_data"
    }
   ],
   "source": [
    "fig = plt.figure()\n",
    "ax1 =fig.add_axes([0,0,1,1])\n",
    "plot_ellipse(ax1,w51n_b3_tt0,w51n_b6_calibrated_pbcor)\n"
   ]
  },
  {
   "cell_type": "code",
   "execution_count": 2,
   "id": "1386306d-1492-446a-8354-64a5c55b61db",
   "metadata": {},
   "outputs": [],
   "source": [
    "def convolveb3b6(b3data, b6data, outdir, label):\n",
    "    fitsdata_b6 = fits.open(b6data)\n",
    "    image_b6 = fitsdata_b6[0].data[0][0]\n",
    "    fitsdata_b3 = fits.open(b3data)\n",
    "    image_b3 = fitsdata_b3[0].data[0][0]\n",
    "    \n",
    "    hdrNB6 = fits.getheader(b6data)  \n",
    "    hdrNB3 = fits.getheader(b3data)  \n",
    "    wcsNB6 = WCS(hdrNB6,naxis=2)\n",
    "    wcsNB3 = WCS(hdrNB3,naxis=2)\n",
    "\n",
    "    my_beamNB3 = Beam.from_fits_header(hdrNB3)\n",
    "    my_beamNB6 = Beam.from_fits_header(hdrNB6)\n",
    "\n",
    "    scaleNB6 = wcsNB6.proj_plane_pixel_scales()[0]\n",
    "    scaleNB3 = wcsNB3.proj_plane_pixel_scales()[0]\n",
    "\n",
    "    beamsN =  Beams(beams=[my_beamNB3,my_beamNB6])\n",
    "\n",
    "    common_beam = beamsN.common_beam()\n",
    "    print(common_beam.major)\n",
    "    \n",
    "    area_rat_B3 = (common_beam.sr/my_beamNB3.sr).value\n",
    "\n",
    "    if area_rat_B3!=1:\n",
    "        print('convolution', b3data)\n",
    "        kernelB3 = common_beam.deconvolve(my_beamNB3).as_kernel(scaleNB3)\n",
    "        conv_B3 = convolve(image_b3, kernelB3,preserve_nan=True)\n",
    "        #conv_B3 = conv_B3 * area_rat_B3\n",
    "        if common_beam.major.unit=='arcsec':\n",
    "            hdrNB3['BMAJ'] = common_beam.major.value/3600\n",
    "            hdrNB3['BMIN'] = common_beam.minor.value/3600\n",
    "            hdrNB3['BPA'] = common_beam.pa.value\n",
    "        else:\n",
    "            hdrNB3['BMAJ'] = common_beam.major.value\n",
    "            hdrNB3['BMIN'] = common_beam.minor.value\n",
    "            hdrNB3['BPA'] = common_beam.pa.value\n",
    "        fits.writeto(outdir+'/%s_B3_conv.fits'%label, conv_B3, hdrNB3, overwrite = True)\n",
    "    \n",
    "    area_rat_B6 = (common_beam.sr/my_beamNB6.sr).value\n",
    "    if area_rat_B6 != 1:\n",
    "        print('convolution', b6data)\n",
    "        kernelB6 = common_beam.deconvolve(my_beamNB6).as_kernel(scaleNB6)\n",
    "        conv_B6 = convolve(image_b6, kernelB6,preserve_nan=True)  \n",
    "        #conv_B6 = conv_B6 * area_rat_B6\n",
    "        if common_beam.major.unit=='arcsec':\n",
    "            hdrNB6['BMAJ'] = common_beam.major.value/3600\n",
    "            hdrNB6['BMIN'] = common_beam.minor.value/3600\n",
    "            hdrNB6['BPA'] = common_beam.pa.value\n",
    "        else:\n",
    "            hdrNB3['BMAJ'] = common_beam.major.value\n",
    "            hdrNB3['BMIN'] = common_beam.minor.value\n",
    "            hdrNB3['BPA'] = common_beam.pa.value\n",
    "        fits.writeto(outdir+'/%s_B6_conv.fits'%label, conv_B6, hdrNB6, overwrite = True)\n",
    "\n",
    "\n"
   ]
  },
  {
   "cell_type": "code",
   "execution_count": 3,
   "id": "8dbab681-16d4-4048-a019-2ca8c11c2909",
   "metadata": {},
   "outputs": [
    {
     "name": "stdout",
     "output_type": "stream",
     "text": [
      "1.83594537278e-05 deg\n",
      "convolution /orange/adamginsburg/w51/TaehwaYoo/w51e2.spw0thru19.14500.robust0.thr0.15mJy.mfs.I.startmod.selfcal7.image.tt0.pbcor.fits\n",
      "1.834915743934e-05 deg\n",
      "convolution /orange/adamginsburg/w51/TaehwaYoo/w51n.spw0thru19.14500.robust0.thr0.1mJy.mfs.I.startmod.selfcal7.image.tt0.pbcor.fits\n"
     ]
    }
   ],
   "source": [
    "convolveb3b6(w51e_b3_tt0,w51e_b6_calibrated_pbcor,'/orange/adamginsburg/w51/TaehwaYoo/convolved_new/','w51e_new_nocorr_in_area')\n",
    "convolveb3b6(w51n_b3_tt0,w51n_b6_calibrated_pbcor,'/orange/adamginsburg/w51/TaehwaYoo/convolved_new/','w51n_new_nocorr_in_area')\n",
    "#convolveb3b6(w51n_b3_alma_imf,w51n_b6_alma_imf,'/orange/adamginsburg/w51/TaehwaYoo/w51_alma_imf/','w51n')\n",
    "\n",
    "#convolveb3b6(w51e_b3_alma_imf,w51e_b6_alma_imf,'/orange/adamginsburg/w51/TaehwaYoo/w51_alma_imf/','w51e')\n",
    "\n"
   ]
  },
  {
   "cell_type": "code",
   "execution_count": null,
   "id": "4a2fad0c-a177-4b2d-a2cc-4d2cc9de5224",
   "metadata": {},
   "outputs": [],
   "source": [
    "w51nb6list = [w51n_b6_briggs, w51n_b6_robust0, w51n_b6_uniform, w51n_b6_superuniform, w51n_b6_natural]\n",
    "w51eb6list = [w51e2_b6_briggs, w51e2_b6_robust0, w51e2_b6_uniform, w51e2_b6_superuniform]\n",
    "labelist = ['briggs','robust0','uniform','superuniform','natural']\n",
    "for label, w51nb6 in zip(labelist,w51nb6list):\n",
    "    convolveb3b6(w51n_b3_tt0,w51nb6,'/orange/adamginsburg/w51/TaehwaYoo/convolved_new/','w51n_%s'%label)\n",
    "for label, w51eb6 in zip(labelist,w51eb6list):\n",
    "    convolveb3b6(w51e2_b3_tt0,w51eb6,'/orange/adamginsburg/w51/TaehwaYoo/convolved_new/','w51e_%s'%label)\n"
   ]
  },
  {
   "cell_type": "code",
   "execution_count": null,
   "id": "26637109-7600-4378-a25e-8ece36d01599",
   "metadata": {},
   "outputs": [],
   "source": []
  }
 ],
 "metadata": {
  "kernelspec": {
   "display_name": "Python 3 (ipykernel)",
   "language": "python",
   "name": "python3"
  },
  "language_info": {
   "codemirror_mode": {
    "name": "ipython",
    "version": 3
   },
   "file_extension": ".py",
   "mimetype": "text/x-python",
   "name": "python",
   "nbconvert_exporter": "python",
   "pygments_lexer": "ipython3",
   "version": "3.9.12"
  }
 },
 "nbformat": 4,
 "nbformat_minor": 5
}
