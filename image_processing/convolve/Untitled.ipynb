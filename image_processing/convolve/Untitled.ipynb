{
 "cells": [
  {
   "cell_type": "code",
   "execution_count": 2,
   "id": "acd89f83-7ce7-407b-bde8-c90217a92c5c",
   "metadata": {},
   "outputs": [],
   "source": [
    "from astropy.io import fits\n",
    "from radio_beam import Beam\n",
    "from astropy.wcs import WCS\n",
    "from radio_beam import Beams\n",
    "from astropy.convolution import convolve\n",
    "from spectral_cube import SpectralCube\n",
    "import matplotlib.pyplot as plt\n",
    "from matplotlib.patches import Ellipse\n",
    "\n",
    "W51b6 = '/orange/adamginsburg/w51/TaehwaYoo/2015.1.01596.S_W51_B6_LB/continuum_images/'\n",
    "W51cont='/orange/adamginsburg/w51/TaehwaYoo/b6contfits/'\n",
    "w51e2_b6_briggs=W51cont+'W51e2_cont_bigbriggs.image.fits'\n",
    "w51e2_b6_robust0=W51cont+'W51e2_cont_big_robust0.image.fits'\n",
    "w51e2_b6_uniform=W51cont+'W51e2_cont_biguniform.image.fits'\n",
    "w51e2_b6_superuniform=W51cont+'W51e2_cont_bigsuperuniform.image.fits'\n",
    "\n",
    "w51n_b6_briggs = W51cont+'W51n_cont_bigbriggs.image.fits'\n",
    "w51n_b6_robust0 = W51cont+'w51n_cont_big_robust0.image.fits'\n",
    "w51n_b6_uniform = W51cont+'W51n_cont_biguniform.image.fits'\n",
    "w51n_b6_superuniform = W51cont+'W51n_cont_bigsuperuniform.image.fits'\n",
    "w51n_b6_natural = W51cont+'W51n_cont_bignatural.image.fits'\n",
    "\n",
    "W51b3 = '/orange/adamginsburg/w51/TaehwaYoo/2017.1.00293.S_W51_B3_LB/may2021_successful_imaging/'\n",
    "w51n_b3_tt0 = W51b3+'w51n.spw0thru19.14500.robust0.thr0.075mJy.mfs.I.startmod.selfcal7.image.tt0.pbcor.fits'\n",
    "w51e_b3_tt0 = W51b3+'w51e2.spw0thru19.14500.robust0.thr0.075mJy.mfs.I.startmod.selfcal7.image.tt0.pbcor.fits'\n",
    "\n",
    "w51e_b3_alma_imf = '/orange/adamginsburg/w51/TaehwaYoo/w51_alma_imf/W51-E_B3_uid___A001_X1296_X10b_continuum_merged_12M_robust0_selfcal7_finaliter.image.tt0.pbcor.fits'\n",
    "w51e_b6_alma_imf = '/orange/adamginsburg/w51/TaehwaYoo/w51_alma_imf/W51-E_B6_uid___A001_X1296_X213_continuum_merged_12M_robust0_selfcal7_finaliter.image.tt0.pbcor.fits'\n",
    "w51n_b3_alma_imf = '/orange/adamginsburg/w51/TaehwaYoo/w51_alma_imf/W51-IRS2_B3_uid___A001_X1296_X18f_continuum_merged_12M_robust0_selfcal4_finaliter.image.tt0.pbcor.fits'\n",
    "w51n_b6_alma_imf = '/orange/adamginsburg/w51/TaehwaYoo/w51_alma_imf/W51-IRS2_B6_uid___A001_X1296_X187_continuum_merged_12M_robust0_selfcal9_finaliter.image.tt0.pbcor.fits'\n",
    "\n",
    "\n",
    "w51e_b6_calibrated_pbcor = '/orange/adamginsburg/w51/TaehwaYoo/w51e2.spw0thru19.14500.robust0.thr0.15mJy.mfs.I.startmod.selfcal7.image.tt0.pbcor.fits'\n",
    "w51n_b6_calibrated_pbcor = '/orange/adamginsburg/w51/TaehwaYoo/w51n.spw0thru19.14500.robust0.thr0.1mJy.mfs.I.startmod.selfcal7.image.tt0.pbcor.fits'\n",
    "\n",
    "\n",
    "\n"
   ]
  },
  {
   "cell_type": "code",
   "execution_count": 6,
   "id": "95453dcc-b4fe-4715-aba5-a9973f09f28d",
   "metadata": {},
   "outputs": [
    {
     "data": {
      "text/plain": [
       "<matplotlib.legend.Legend at 0x14dc8f9b53d0>"
      ]
     },
     "execution_count": 6,
     "metadata": {},
     "output_type": "execute_result"
    },
    {
     "data": {
      "image/png": "[encoded data removed]",
      "text/plain": [
       "<Figure size 432x288 with 1 Axes>"
      ]
     },
     "metadata": {
      "needs_background": "light"
     },
     "output_type": "display_data"
    }
   ],
   "source": [
    "fig = plt.figure()\n",
    "ax = plt.gca()\n",
    "\n",
    "\n",
    "ellipse = Ellipse(xy=(0,0), width=0.07675755076378608 , height=0.059342622476884876, \n",
    "                        angle=0, edgecolor='r', fc='None', lw=2 ,ls='dashed', label='B3')\n",
    "ellipse2 = Ellipse(xy=(0,0), width=1.83594537278e-05*3600, height=1.162229726712e-05*3600, \n",
    "                        angle=-44.76537322998, edgecolor='k', fc='None', lw=2,label='B6')\n",
    "ax.add_patch(ellipse)\n",
    "ax.add_patch(ellipse2)\n",
    "\n",
    "ax.set_xlim(-1e-1,1e-1)\n",
    "ax.set_ylim(-1e-1,1e-1)\n",
    "ax.legend()"
   ]
  },
  {
   "cell_type": "code",
   "execution_count": null,
   "id": "c52e1c9b-81bd-4503-8d14-6e1958e1dd10",
   "metadata": {},
   "outputs": [],
   "source": []
  }
 ],
 "metadata": {
  "kernelspec": {
   "display_name": "Python 3 (ipykernel)",
   "language": "python",
   "name": "python3"
  },
  "language_info": {
   "codemirror_mode": {
    "name": "ipython",
    "version": 3
   },
   "file_extension": ".py",
   "mimetype": "text/x-python",
   "name": "python",
   "nbconvert_exporter": "python",
   "pygments_lexer": "ipython3",
   "version": "3.9.12"
  }
 },
 "nbformat": 4,
 "nbformat_minor": 5
}
