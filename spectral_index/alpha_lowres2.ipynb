{
 "cells": [
  {
   "cell_type": "code",
   "execution_count": 1,
   "id": "79a89ddc-9e18-4e05-8d01-8613bf7a2317",
   "metadata": {},
   "outputs": [],
   "source": [
    "from dendrocat import RadioSource\n",
    "from astropy.io import fits\n",
    "from spectral_cube import SpectralCube\n",
    "import matplotlib.pyplot as plt\n",
    "from matplotlib.colors import LogNorm\n",
    "import numpy as np\n",
    "import sys\n",
    "import importlib\n",
    "from astropy.wcs import WCS\n",
    "from scipy import interpolate\n",
    "import pandas as pd\n",
    "import sympy as syp\n",
    "W51 = '/orange/adamginsburg/w51/TaehwaYoo/'\n",
    "W51b6 = '/orange/adamginsburg/w51/TaehwaYoo/2015.1.01596.S_W51_B6_LB/continuum_images/'\n",
    "W51cont='/orange/adamginsburg/w51/TaehwaYoo/b6contfits/'\n",
    "w51e2_b6_briggs=W51cont+'W51e2_cont_bigbriggs.image.fits'\n",
    "w51e2_b6_robust0=W51cont+'W51e2_cont_big_robust0.image.fits'\n",
    "w51e2_b6_uniform=W51cont+'W51e2_cont_biguniform.image.fits'\n",
    "w51e2_b6_superuniform=W51cont+'W51e2_cont_bigsuperuniform.image.fits'\n",
    "\n",
    "w51n_b6_briggs = W51cont+'W51n_cont_bigbriggs.image.fits'\n",
    "w51n_b6_robust0 = W51cont+'w51n_cont_big_robust0.image.fits'\n",
    "w51n_b6_uniform = W51cont+'W51n_cont_biguniform.image.fits'\n",
    "w51n_b6_superuniform = W51cont+'W51n_cont_bigsuperuniform.image.fits'\n",
    "w51n_b6_natural = W51cont+'W51n_cont_bignatural.image.fits'\n",
    "\n",
    "W51b3 = '/orange/adamginsburg/w51/TaehwaYoo/2017.1.00293.S_W51_B3_LB/may2021_successful_imaging/'\n",
    "\n",
    "w51n_b3_tt0 = W51b3+'w51n.spw0thru19.14500.robust0.thr0.075mJy.mfs.I.startmod.selfcal7.image.tt0.pbcor.fits'\n",
    "w51n_b3_tt1 = W51+'w51n.spw0thru19.14500.robust0.thr0.075mJy.mfs.I.startmod.selfcal7.image.tt1.pbcor.fits'\n",
    "w51n_b3_alpha = W51+'w51n.spw0thru19.14500.robust0.thr0.075mJy.mfs.I.startmod.selfcal7.alpha.pbcor.fits'\n",
    "\n",
    "w51conv = '/orange/adamginsburg/w51/TaehwaYoo/convolved_new/'\n",
    "w51n_b6_conv = w51conv + 'w51n_cont_bigbriggs.image.convB3_briggs.fits'\n",
    "\n",
    "w51e2_b3_tt0 = W51b3+'w51e2.spw0thru19.14500.robust0.thr0.075mJy.mfs.I.startmod.selfcal7.image.tt0.pbcor.fits'\n",
    "w51e2_b3_tt1 = W51+'w51e2.spw0thru19.14500.robust0.thr0.075mJy.mfs.I.startmod.selfcal7.image.tt1.pbcor.fits'\n",
    "w51e2_b3_alpha = W51+'w51e2.spw0thru19.14500.robust0.thr0.075mJy.mfs.I.startmod.selfcal7.alpha.pbcor.fits'\n",
    "\n",
    "w51e2_b6_conv = w51conv + 'w51e2_cont_bigbriggs.image.convB3_briggs.fits'\n",
    "\n",
    "w51e_b6_almaimf_conv = '/orange/adamginsburg/w51/TaehwaYoo/w51_alma_imf/w51e_B6_conv.fits'\n",
    "w51e_b3_almaimf_conv = '/orange/adamginsburg/w51/TaehwaYoo/w51_alma_imf/w51e_B3_conv.fits'\n"
   ]
  },
  {
   "cell_type": "code",
   "execution_count": null,
   "id": "55714ce6-95c5-414d-bc37-0540b63453be",
   "metadata": {},
   "outputs": [],
   "source": []
  }
 ],
 "metadata": {
  "kernelspec": {
   "display_name": "Python 3 (ipykernel)",
   "language": "python",
   "name": "python3"
  },
  "language_info": {
   "codemirror_mode": {
    "name": "ipython",
    "version": 3
   },
   "file_extension": ".py",
   "mimetype": "text/x-python",
   "name": "python",
   "nbconvert_exporter": "python",
   "pygments_lexer": "ipython3",
   "version": "3.9.12"
  }
 },
 "nbformat": 4,
 "nbformat_minor": 5
}
