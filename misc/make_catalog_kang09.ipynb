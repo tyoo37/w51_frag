{
 "cells": [
  {
   "cell_type": "code",
   "execution_count": 8,
   "metadata": {},
   "outputs": [
    {
     "name": "stdout",
     "output_type": "stream",
     "text": [
      "     SSTGLMC      Stg Cl1 Cl2  Jmag  Hmag ... __8_0_ __24_  A   _Glon    _Glat  \n",
      "                               mag   mag  ...  mag    mag        deg      deg   \n",
      "----------------- --- --- --- ----- ----- ... ------ ----- --- -------- --------\n",
      "G048.7567-00.6341 II  II  II  15.89 14.81 ...  10.94  7.43   F  48.7567  -0.6341\n",
      "G048.7579-00.2797 0/I     F   14.17 13.37 ...     --  6.03   F  48.7579  -0.2797\n",
      "G048.7605-00.0388 II  I   I      --    -- ...  10.02  6.24   W  48.7605  -0.0388\n",
      "G048.7618+00.0627 II  I   F      --    -- ...  10.94  7.62   W  48.7618   0.0627\n",
      "G048.7637+00.2022 0/I I   I      --    -- ...  10.67  6.47   W  48.7637   0.2022\n",
      "G048.7655+00.1017 Amb     II  14.91 14.08 ...     --  8.44   F  48.7655   0.1017\n",
      "G048.7667+00.0766 II  II  II  15.97 14.10 ...   9.84  7.60   F  48.7667   0.0766\n",
      "G048.7702-00.1505 0/I F   I      --    -- ...  11.06  6.26   W  48.7702  -0.1505\n",
      "G048.7703+00.0786 II  I   F      --    -- ...   8.85  5.81   W  48.7703   0.0786\n",
      "G048.7720-00.4792 II  II  F   16.27 14.38 ...   9.25    --   F  48.7720  -0.4792\n",
      "              ... ... ... ...   ...   ... ...    ...   ... ...      ...      ...\n",
      "G049.9895-00.0079 0/I F   F      --    -- ...  10.72    --   W  49.9895  -0.0079\n",
      "G049.9899-00.1413 Amb II  I      -- 14.61 ...   7.37    --   W  49.9899  -0.1413\n",
      "G049.9914-00.1333 II  F   F      -- 13.48 ...   6.30  3.17   W  49.9914  -0.1333\n",
      "G049.9937+00.0231 Amb II  II  16.07 14.69 ...  11.18    --   F  49.9937   0.0231\n",
      "G049.9952-00.0063 0/I F   I      -- 15.20 ...   9.41    --   W  49.9952  -0.0063\n",
      "G049.9972+00.2599 Amb I   I      --    -- ...   9.90    --   W  49.9972   0.2599\n",
      "G049.9973+00.2605 0/I I   I      --    -- ...  10.62    --   W  49.9973   0.2605\n",
      "G049.9973+00.2630 Amb F   I   15.89 14.25 ...   8.74  4.02   F  49.9973   0.2630\n",
      "G049.9977-00.1261 0/I     I      --    -- ...     --  0.44   W  49.9977  -0.1261\n",
      "G049.9982-00.1303 Amb I   I      --    -- ...   6.99    --   W  49.9982  -0.1303\n",
      "Length = 737 rows\n"
     ]
    },
    {
     "data": {
      "text/plain": [
       "(None,)"
      ]
     },
     "execution_count": 8,
     "metadata": {},
     "output_type": "execute_result"
    }
   ],
   "source": [
    "import numpy as np\n",
    "from astropy.table import Table\n",
    "dat = Table.read('/home/t.yoo/kang09.fit', format='fits' )\n"
   ]
  }
 ],
 "metadata": {
  "kernelspec": {
   "display_name": "base",
   "language": "python",
   "name": "python3"
  },
  "language_info": {
   "codemirror_mode": {
    "name": "ipython",
    "version": 3
   },
   "file_extension": ".py",
   "mimetype": "text/x-python",
   "name": "python",
   "nbconvert_exporter": "python",
   "pygments_lexer": "ipython3",
   "version": "3.9.12"
  }
 },
 "nbformat": 4,
 "nbformat_minor": 2
}
