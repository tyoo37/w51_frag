{
 "cells": [
  {
   "cell_type": "code",
   "execution_count": null,
   "id": "ee790b91-8a16-488c-92e5-9530b794055f",
   "metadata": {},
   "outputs": [],
   "source": [
    "\n",
    "http://localhost:34001/lab/tree/w51/catalogue/error.ipynb\n",
    "\n",
    "\n"
   ]
  }
 ],
 "metadata": {
  "kernelspec": {
   "display_name": "Python 3 (ipykernel)",
   "language": "python",
   "name": "python3"
  },
  "language_info": {
   "codemirror_mode": {
    "name": "ipython",
    "version": 3
   },
   "file_extension": ".py",
   "mimetype": "text/x-python",
   "name": "python",
   "nbconvert_exporter": "python",
   "pygments_lexer": "ipython3",
   "version": "3.9.12"
  }
 },
 "nbformat": 4,
 "nbformat_minor": 5
}
