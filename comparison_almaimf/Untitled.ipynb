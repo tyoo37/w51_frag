{
 "cells": [
  {
   "cell_type": "code",
   "execution_count": 1,
   "id": "11ef01f1-c7b9-4639-9eb9-50af32d0ad9c",
   "metadata": {},
   "outputs": [
    {
     "name": "stdout",
     "output_type": "stream",
     "text": [
      "5.251426613301947e-17 g / cm3\n",
      "0.009185760021278315 Myr\n",
      "col1     col2       col3     col4\n",
      "---- ----------- ---------- -----\n",
      "   1 290.9329567 14.5095916  62.8\n",
      "   2 290.9331854 14.5095896 63.54\n",
      "   3  290.924457  14.515755 24.22\n",
      "   4 290.9329076 14.5078281 61.72\n",
      "   5 290.9328144 14.5099874 57.26\n",
      "   6 290.9424419 14.4963451 23.72\n",
      "   7 290.9228588 14.5143734 23.78\n",
      "   8 290.9330369 14.5101522 54.98\n",
      "   9 290.9426773 14.4964265 23.77\n",
      "  10 290.9324453 14.5062051 36.06\n",
      " ...         ...        ...   ...\n",
      "  31 290.9288221 14.5159753 23.57\n",
      "  32 290.9321319  14.509808 37.79\n",
      "  33 290.9266704 14.5017074 23.11\n",
      "  34 290.9325349 14.5131101 23.37\n",
      "  35 290.9372906 14.5091428 22.79\n",
      "  36 290.9337536 14.5096159 45.24\n",
      "  37 290.9335776 14.5097985 50.82\n",
      "  38  290.934952 14.5078333 26.23\n",
      "  39  290.934256 14.5089017 31.35\n",
      "  40 290.9326953 14.5084372 41.92\n",
      "  41 290.9336691 14.5092985 45.79\n",
      "Length = 41 rows\n"
     ]
    }
   ],
   "source": [
    "from astropy.table import Table\n",
    "from astropy.io import ascii\n",
    "import numpy as np\n",
    "import astropy.units as u\n",
    "import astropy.constants as c\n",
    "den =(10*u.Msun/(4/3*np.pi*(3000*u.au)**3)).to(u.g/u.cm**3)\n",
    "print(den)\n",
    "tff = np.sqrt(3*np.pi/32/c.G/den)\n",
    "print(tff.to(u.Myr))\n",
    "tab = ascii.read('/home/t.yoo/W51-E_core_temperature_smooth_catalog.dat', data_start=4)\n",
    "print(tab)\n",
    "\n",
    "ra =tab['col1']\n",
    "dec = tab['col2']\n",
    "temp = tab['col3']"
   ]
  },
  {
   "cell_type": "code",
   "execution_count": 2,
   "id": "45ef4075-4be1-4a32-a101-6c5406069b38",
   "metadata": {},
   "outputs": [
    {
     "data": {
      "text/latex": [
       "$1.6017669 \\; \\mathrm{K}$"
      ],
      "text/plain": [
       "<Quantity 1.60176688 K>"
      ]
     },
     "execution_count": 2,
     "metadata": {},
     "output_type": "execute_result"
    }
   ],
   "source": [
    "freq93 = 92.98 * u.GHz\n",
    "freq225 = 226.69 * u.GHz\n",
    "equiv_b3 = u.brightness_temperature(freq93)\n",
    "(1e-2*u.Jy/u.arcsec**2).to(u.K, equivalencies=equiv_b3)  "
   ]
  },
  {
   "cell_type": "code",
   "execution_count": 3,
   "id": "19271a14",
   "metadata": {},
   "outputs": [
    {
     "data": {
      "text/latex": [
       "$8008.8344 \\; \\mathrm{K}$"
      ],
      "text/plain": [
       "<Quantity 8008.83441349 K>"
      ]
     },
     "execution_count": 3,
     "metadata": {},
     "output_type": "execute_result"
    }
   ],
   "source": [
    "(50*u.Jy/u.arcsec**2).to(u.K, equivalencies=equiv_b3)  "
   ]
  },
  {
   "cell_type": "code",
   "execution_count": 4,
   "id": "05e8e495",
   "metadata": {},
   "outputs": [
    {
     "data": {
      "text/latex": [
       "$1.3473601 \\; \\mathrm{K}$"
      ],
      "text/plain": [
       "<Quantity 1.34736007 K>"
      ]
     },
     "execution_count": 4,
     "metadata": {},
     "output_type": "execute_result"
    }
   ],
   "source": [
    "equiv_b6 = u.brightness_temperature(freq225)\n",
    "(5e-2*u.Jy/u.arcsec**2).to(u.K, equivalencies=equiv_b6)  "
   ]
  },
  {
   "cell_type": "code",
   "execution_count": 5,
   "id": "67b94ddd",
   "metadata": {},
   "outputs": [
    {
     "data": {
      "text/latex": [
       "$269.47201 \\; \\mathrm{K}$"
      ],
      "text/plain": [
       "<Quantity 269.47201443 K>"
      ]
     },
     "execution_count": 5,
     "metadata": {},
     "output_type": "execute_result"
    }
   ],
   "source": [
    "equiv_b6 = u.brightness_temperature(freq225)\n",
    "(10*u.Jy/u.arcsec**2).to(u.K, equivalencies=equiv_b6)  "
   ]
  },
  {
   "cell_type": "code",
   "execution_count": 7,
   "id": "c92beb8e",
   "metadata": {},
   "outputs": [
    {
     "name": "stdout",
     "output_type": "stream",
     "text": [
      "0.7337603004952148\n"
     ]
    }
   ],
   "source": [
    "#7.8e-4, 1.3e-4\n",
    "b3flux = 7.8e-4\n",
    "b6flux = 1.5e-3\n",
    "\n",
    "alpha = np.log10(b3flux/b6flux)/np.log10(freq93/freq225)\n",
    "print(alpha)"
   ]
  }
 ],
 "metadata": {
  "kernelspec": {
   "display_name": "Python 3 (ipykernel)",
   "language": "python",
   "name": "python3"
  },
  "language_info": {
   "codemirror_mode": {
    "name": "ipython",
    "version": 3
   },
   "file_extension": ".py",
   "mimetype": "text/x-python",
   "name": "python",
   "nbconvert_exporter": "python",
   "pygments_lexer": "ipython3",
   "version": "3.9.12"
  }
 },
 "nbformat": 4,
 "nbformat_minor": 5
}
