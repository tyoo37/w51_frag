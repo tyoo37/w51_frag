{
 "cells": [
  {
   "cell_type": "code",
   "execution_count": null,
   "id": "e977b096-295c-4e15-9aad-949b0b144fd9",
   "metadata": {},
   "outputs": [],
   "source": [
    "from astroquery.alma import Alma, get_enhanced_table\n",
    "\n",
    "import numpy as np\n",
    "import astropy.units as u\n",
    "\n",
    "IRS11 = [71.5, 22.4, 1670, 19627]\n",
    "IRS12 = [344.1, 13.9, 641.6, 12748]\n",
    "IRS21 = [36.7, 101.7, 460.7, 12967]\n",
    "IRS22 = [39, 11.2, 113.0, 3676]\n",
    "IRS23 = [36.3, 19.2, 184.8, 8674]\n",
    "IRS2E = [10289, 330, 12280, 97500]\n",
    "IRS3 = [1230, 12.6, 1785, 12820]\n",
    "OKYM2 = [9561, 2030, 3960, 5000]\n",
    "w51d1 = [400, 880, 5200, 48000]\n",
    "\n",
    "wl = [7.73, 9.69, 12.33, 24.56]\n",
    "\n",
    "np.savetxt('IRS11.dat', np.vstack((wl,IRS11)).T, newline='\\n', delimiter=' ')\n",
    "np.savetxt('IRS12.dat', np.vstack((wl,IRS12)).T, newline='\\n', delimiter=' ')\n",
    "np.savetxt('IRS21.dat', np.vstack((wl,IRS21)).T, newline='\\n', delimiter=' ')\n",
    "np.savetxt('IRS22.dat', np.vstack((wl,IRS22)).T, newline='\\n', delimiter=' ')\n",
    "np.savetxt('IRS23.dat', np.vstack((wl,IRS23)).T, newline='\\n', delimiter=' ')\n",
    "np.savetxt('IRS2E.dat', np.vstack((wl,IRS2E)).T, newline='\\n', delimiter=' ')\n",
    "np.savetxt('IRS3.dat', np.vstack((wl,IRS3)).T, newline='\\n', delimiter=' ')\n",
    "np.savetxt('OKYM2.dat', np.vstack((wl,OKYM2)).T, newline='\\n', delimiter=' ')\n",
    "np.savetxt('w51d1.dat', np.vstack((wl,w51d1)).T, newline='\\n', delimiter=' ')\n"
   ]
  }
 ],
 "metadata": {
  "kernelspec": {
   "display_name": "Python 3 (ipykernel)",
   "language": "python",
   "name": "python3"
  },
  "language_info": {
   "codemirror_mode": {
    "name": "ipython",
    "version": 3
   },
   "file_extension": ".py",
   "mimetype": "text/x-python",
   "name": "python",
   "nbconvert_exporter": "python",
   "pygments_lexer": "ipython3",
   "version": "3.9.12"
  }
 },
 "nbformat": 4,
 "nbformat_minor": 5
}
