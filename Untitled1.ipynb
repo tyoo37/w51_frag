{
 "cells": [
  {
   "cell_type": "code",
   "execution_count": 1,
   "id": "1c61fde0-eded-4f85-ab62-0dc1a9483bb3",
   "metadata": {},
   "outputs": [
    {
     "data": {
      "text/latex": [
       "$0.33827667 \\; \\mathrm{mJy}$"
      ],
      "text/plain": [
       "<Quantity 0.33827667 mJy>"
      ]
     },
     "execution_count": 1,
     "metadata": {},
     "output_type": "execute_result"
    }
   ],
   "source": [
    "import astropy.constants as c\n",
    "import astropy.units as u\n",
    "import numpy as np\n",
    "def BB(freq, temp):\n",
    "    B_nu = (2 * freq**3 *c.h / (c.c**2) * 1 / (np.e**(c.h*freq/(c.k_B*temp))-1))\n",
    "    return B_nu \n",
    "def BB_lambda(lam, temp):\n",
    "    B_lam = (2 * c.h * c.c**2/lam**5) / (np.exp(c.h*c.c/lam/c.k_B/temp)-1)\n",
    "    return B_lam\n",
    "\n",
    "flux = BB(869*u.GHz, 100*u.K)\n",
    "dist=5100\n",
    "beamsize = 0.007\n",
    "size = dist * beamsize\n",
    "flux_rescaled = flux.to(u.Jy)*np.pi*(size*u.au/2/(5.1*u.kpc))**2/5\n",
    "flux_rescaled.to(u.mJy)"
   ]
  },
  {
   "cell_type": "code",
   "execution_count": 2,
   "id": "9819ef9a-334c-4fa7-b6bc-84110f32c015",
   "metadata": {},
   "outputs": [
    {
     "data": {
      "text/latex": [
       "$0.35833126 \\; \\mathrm{mJy}$"
      ],
      "text/plain": [
       "<Quantity 0.35833126 mJy>"
      ]
     },
     "execution_count": 2,
     "metadata": {},
     "output_type": "execute_result"
    }
   ],
   "source": [
    "flux = BB(679*u.GHz, 100*u.K)\n",
    "dist=5100\n",
    "beamsize = 0.009\n",
    "size = dist * beamsize\n",
    "flux_rescaled = flux.to(u.Jy)*np.pi*(size*u.au/2/(5.1*u.kpc))**2/5\n",
    "flux_rescaled.to(u.mJy)"
   ]
  },
  {
   "cell_type": "code",
   "execution_count": 10,
   "id": "6cee2684-825a-4bd7-a7a9-4d667e051ae8",
   "metadata": {},
   "outputs": [
    {
     "name": "stderr",
     "output_type": "stream",
     "text": [
      "/home/t.yoo/anaconda3/lib/python3.9/site-packages/astropy/units/quantity.py:666: RuntimeWarning: overflow encountered in exp\n",
      "  result = super().__array_ufunc__(function, method, *arrays, **kwargs)\n"
     ]
    },
    {
     "data": {
      "text/plain": [
       "(1e-20, 10000000000.0)"
      ]
     },
     "execution_count": 10,
     "metadata": {},
     "output_type": "execute_result"
    },
    {
     "data": {
      "image/png": "[encoded data removed]",
      "text/plain": [
       "<Figure size 432x288 with 1 Axes>"
      ]
     },
     "metadata": {
      "needs_background": "light"
     },
     "output_type": "display_data"
    }
   ],
   "source": [
    "import matplotlib.pyplot as plt\n",
    "fig = plt.figure()\n",
    "lamarr = np.logspace(4, 8)*1e-10 *u.m\n",
    "plt.plot(lamarr, BB_lambda(lamarr,50*u.K))\n",
    "plt.plot(lamarr, BB_lambda(lamarr,10*u.K))\n",
    "plt.yscale('log')\n",
    "plt.xscale('log')\n",
    "plt.ylim(1e-20,1e10)"
   ]
  }
 ],
 "metadata": {
  "kernelspec": {
   "display_name": "Python 3",
   "language": "python",
   "name": "python3"
  },
  "language_info": {
   "codemirror_mode": {
    "name": "ipython",
    "version": 3
   },
   "file_extension": ".py",
   "mimetype": "text/x-python",
   "name": "python",
   "nbconvert_exporter": "python",
   "pygments_lexer": "ipython3",
   "version": "3.9.12"
  }
 },
 "nbformat": 4,
 "nbformat_minor": 5
}
