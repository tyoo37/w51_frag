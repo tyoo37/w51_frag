{
 "cells": [
  {
   "cell_type": "code",
   "execution_count": 5,
   "metadata": {},
   "outputs": [
    {
     "name": "stdout",
     "output_type": "stream",
     "text": [
      "-1.64104152012818e-16 -0.0012919001293943673\n"
     ]
    }
   ],
   "source": [
    "import numpy as np\n",
    "from astropy.io import fits\n",
    "import Paths.Paths as paths\n",
    "import numpy as np\n",
    "Path = paths.filepaths()\n",
    "\n",
    "def cen_freq(center, delta ,alpha=2):\n",
    "    start = center-delta/2 ; end = center+delta/2\n",
    "    freqarr = np.logspace(np.log10(start),np.log10(end),20)\n",
    "    dfreq = freqarr[1:]-freqarr[:-1]\n",
    "    dfreq = np.append(dfreq,[dfreq[-1]])\n",
    "    \n",
    "    integral_up = np.sum(freqarr**(alpha+1)*dfreq)\n",
    "    integral_down = np.sum(freqarr**(alpha)*dfreq)\n",
    "    return integral_up/integral_down\n",
    "\n",
    "\n",
    "\n",
    "hdrNB6 = fits.getheader(Path.w51e_b6_cont)  \n",
    "hdrNB3 = fits.getheader(Path.w51e_b3_tt0)  \n",
    "freqb3 = cen_freq(hdrNB3['CRVAL3'],hdrNB3['CDELT4'],alpha=2)\n",
    "freqb3_alpha4 = cen_freq(hdrNB3['CRVAL3'],hdrNB3['CDELT4'], alpha=4)\n",
    "freqb6 = cen_freq(hdrNB6['CRVAL4'],hdrNB6['CDELT4'])\n",
    "freqb6_alpha4 = cen_freq(hdrNB6['CRVAL4'],hdrNB6['CDELT4'], alpha=4)\n",
    "\n",
    "print((freqb3-freqb3_alpha4)/freqb3, (freqb6-freqb6_alpha4)/freqb6)"
   ]
  }
 ],
 "metadata": {
  "kernelspec": {
   "display_name": "base",
   "language": "python",
   "name": "python3"
  },
  "language_info": {
   "codemirror_mode": {
    "name": "ipython",
    "version": 3
   },
   "file_extension": ".py",
   "mimetype": "text/x-python",
   "name": "python",
   "nbconvert_exporter": "python",
   "pygments_lexer": "ipython3",
   "version": "3.9.12"
  }
 },
 "nbformat": 4,
 "nbformat_minor": 2
}
