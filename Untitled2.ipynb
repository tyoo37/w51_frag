{
 "cells": [
  {
   "cell_type": "code",
   "execution_count": 3,
   "id": "6b1cd0f9-0d0e-4550-ae8a-d914d5f1d3a9",
   "metadata": {},
   "outputs": [
    {
     "ename": "IndexError",
     "evalue": "only integers, slices (`:`), ellipsis (`...`), numpy.newaxis (`None`) and integer or boolean arrays are valid indices",
     "output_type": "error",
     "traceback": [
      "\u001b[0;31m---------------------------------------------------------------------------\u001b[0m",
      "\u001b[0;31mIndexError\u001b[0m                                Traceback (most recent call last)",
      "Input \u001b[0;32mIn [3]\u001b[0m, in \u001b[0;36m<cell line: 60>\u001b[0;34m()\u001b[0m\n\u001b[1;32m     58\u001b[0m times2 \u001b[38;5;241m=\u001b[39m {}\n\u001b[1;32m     60\u001b[0m \u001b[38;5;28;01mfor\u001b[39;00m i, impl \u001b[38;5;129;01min\u001b[39;00m \u001b[38;5;28menumerate\u001b[39m(implementations):\n\u001b[0;32m---> 61\u001b[0m     profile \u001b[38;5;241m=\u001b[39m \u001b[43mIndexProfiling\u001b[49m\u001b[43m(\u001b[49m\u001b[38;5;28;43meval\u001b[39;49m\u001b[43m(\u001b[49m\u001b[43mimpl\u001b[49m\u001b[43m)\u001b[49m\u001b[43m)\u001b[49m\n\u001b[1;32m     62\u001b[0m     \u001b[38;5;28;01mfor\u001b[39;00m j, method \u001b[38;5;129;01min\u001b[39;00m \u001b[38;5;28menumerate\u001b[39m(methods):\n\u001b[1;32m     63\u001b[0m         func \u001b[38;5;241m=\u001b[39m \u001b[38;5;28mgetattr\u001b[39m(profile, \u001b[38;5;124m'\u001b[39m\u001b[38;5;124mtime_\u001b[39m\u001b[38;5;132;01m{0}\u001b[39;00m\u001b[38;5;124m'\u001b[39m\u001b[38;5;241m.\u001b[39mformat(method))\n",
      "Input \u001b[0;32mIn [3]\u001b[0m, in \u001b[0;36mIndexProfiling.__init__\u001b[0;34m(self, engine)\u001b[0m\n\u001b[1;32m     15\u001b[0m \u001b[38;5;28mself\u001b[39m\u001b[38;5;241m.\u001b[39mt \u001b[38;5;241m=\u001b[39m Table([idx])\n\u001b[1;32m     16\u001b[0m \u001b[38;5;28mself\u001b[39m\u001b[38;5;241m.\u001b[39mengine \u001b[38;5;241m=\u001b[39m engine\n\u001b[0;32m---> 17\u001b[0m \u001b[38;5;28mself\u001b[39m\u001b[38;5;241m.\u001b[39mval \u001b[38;5;241m=\u001b[39m \u001b[38;5;28;43mself\u001b[39;49m\u001b[38;5;241;43m.\u001b[39;49m\u001b[43mt\u001b[49m\u001b[43m[\u001b[49m\u001b[38;5;124;43m'\u001b[39;49m\u001b[38;5;124;43mcol0\u001b[39;49m\u001b[38;5;124;43m'\u001b[39;49m\u001b[43m]\u001b[49m\u001b[43m[\u001b[49m\u001b[43mN\u001b[49m\u001b[43m \u001b[49m\u001b[38;5;241;43m/\u001b[39;49m\u001b[43m \u001b[49m\u001b[38;5;241;43m2\u001b[39;49m\u001b[43m]\u001b[49m\n",
      "File \u001b[0;32mastropy/table/_column_mixins.pyx:74\u001b[0m, in \u001b[0;36mastropy.table._column_mixins._ColumnGetitemShim.__getitem__\u001b[0;34m()\u001b[0m\n",
      "File \u001b[0;32mastropy/table/_column_mixins.pyx:57\u001b[0m, in \u001b[0;36mastropy.table._column_mixins.base_getitem\u001b[0;34m()\u001b[0m\n",
      "File \u001b[0;32mastropy/table/_column_mixins.pyx:69\u001b[0m, in \u001b[0;36mastropy.table._column_mixins.column_getitem\u001b[0;34m()\u001b[0m\n",
      "\u001b[0;31mIndexError\u001b[0m: only integers, slices (`:`), ellipsis (`...`), numpy.newaxis (`None`) and integer or boolean arrays are valid indices"
     ]
    }
   ],
   "source": [
    "import numpy as np\n",
    "from random import randint\n",
    "from astropy.table import Table, BST,  SortedArray\n",
    "from astropy.table.sorted_array import _searchsorted\n",
    "from astropy.time import Time\n",
    "from time import time\n",
    "\n",
    "N = 100000\n",
    "\n",
    "class IndexProfiling:\n",
    "    def __init__(self, engine):\n",
    "        # initialize N rows with shuffled integer elements\n",
    "        idx = np.arange(N)\n",
    "        np.random.shuffle(idx)\n",
    "        self.t = Table([idx])\n",
    "        self.engine = engine\n",
    "        self.val = self.t['col0'][N / 2]\n",
    "\n",
    "    def time_init(self):\n",
    "        if self.engine is not None:\n",
    "            self.t.add_index('col0', engine=self.engine)\n",
    "\n",
    "    def time_group(self):\n",
    "        self.t.group_by('col0')\n",
    "\n",
    "    def time_loc(self):\n",
    "        if self.engine is not None:\n",
    "            self.t.loc[self.val]\n",
    "        else: # linear search\n",
    "            for val in self.t['col0']:\n",
    "                if val == self.val:\n",
    "                    break\n",
    "\n",
    "    def time_loc_range(self):\n",
    "        # from N/4 to 3N/4, inclusive\n",
    "        if self.engine is not None:\n",
    "            self.t.loc[N / 4 : 3 * N / 4]\n",
    "        else:\n",
    "            range_vals = []\n",
    "            for val in self.t['col0']:\n",
    "                if N / 4 <= val <= 3 * N / 4:\n",
    "                    range_vals.append(val)\n",
    "\n",
    "    def time_add_row(self):\n",
    "        self.t.add_row((randint(0, N * 10),))\n",
    "\n",
    "    def time_modify(self):\n",
    "        self.t['col0'][0] = randint(0, N * 10)\n",
    "\n",
    "def get_time(func):\n",
    "    start = time()\n",
    "    func()\n",
    "    return time() - start\n",
    "\n",
    "implementations = ['None', 'FastRBT', 'SortedArray']\n",
    "methods = ['init', 'group', 'loc', 'loc_range', 'add_row', 'modify']\n",
    "times = {}\n",
    "times2 = {}\n",
    "\n",
    "for i, impl in enumerate(implementations):\n",
    "    profile = IndexProfiling(eval(impl))\n",
    "    for j, method in enumerate(methods):\n",
    "        func = getattr(profile, 'time_{0}'.format(method))\n",
    "        running_time = get_time(func)\n",
    "        times[(impl, method)] = running_time\n",
    "        with profile.t.index_mode('discard_on_copy'):\n",
    "            time2 = get_time(func)\n",
    "            times2[(impl, method)] = time2"
   ]
  },
  {
   "cell_type": "code",
   "execution_count": null,
   "id": "aaaf3465-3296-4457-9509-3f7c9c756cd5",
   "metadata": {},
   "outputs": [],
   "source": []
  }
 ],
 "metadata": {
  "kernelspec": {
   "display_name": "Python 3 (ipykernel)",
   "language": "python",
   "name": "python3"
  },
  "language_info": {
   "codemirror_mode": {
    "name": "ipython",
    "version": 3
   },
   "file_extension": ".py",
   "mimetype": "text/x-python",
   "name": "python",
   "nbconvert_exporter": "python",
   "pygments_lexer": "ipython3",
   "version": "3.9.12"
  }
 },
 "nbformat": 4,
 "nbformat_minor": 5
}
