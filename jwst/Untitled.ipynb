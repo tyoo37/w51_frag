{
 "cells": [
  {
   "cell_type": "code",
   "execution_count": 25,
   "id": "389d1344-1240-49ec-803f-2e21bc551fb5",
   "metadata": {},
   "outputs": [
    {
     "data": {
      "text/latex": [
       "$1.9231429 \\times 10^{31} \\; \\mathrm{\\frac{erg}{s}}$"
      ],
      "text/plain": [
       "<Quantity 1.9231429e+31 erg / s>"
      ]
     },
     "execution_count": 25,
     "metadata": {},
     "output_type": "execute_result"
    }
   ],
   "source": [
    "import astropy.units as u\n",
    "import astropy.constants as c\n",
    "import numpy as np\n",
    "Lacc = (1e-9*u.Msun/u.yr/1.25*c.G/(0.5*u.Rsun)*(0.1*u.Msun)).to(u.erg/u.s)\n",
    "Lacc"
   ]
  },
  {
   "cell_type": "code",
   "execution_count": 29,
   "id": "b49fe60d-6a4f-461e-87d0-2536a92436cc",
   "metadata": {},
   "outputs": [],
   "source": [
    "Facc = (Lacc/4/np.pi/(5.41*u.kpc)**2).to(u.erg/u.s/u.cm**2)"
   ]
  },
  {
   "cell_type": "code",
   "execution_count": 30,
   "id": "135d0807-d0ad-41ca-8f5e-a69fc7feb9b3",
   "metadata": {},
   "outputs": [
    {
     "data": {
      "text/plain": [
       "1.0765333714099814e-21"
      ]
     },
     "execution_count": 30,
     "metadata": {},
     "output_type": "execute_result"
    }
   ],
   "source": [
    "BrA = 10**(np.log10(Facc.value)-6.45)/1.81\n",
    "BrA"
   ]
  },
  {
   "cell_type": "code",
   "execution_count": 31,
   "id": "201503a3-73ef-44b7-a342-10183a844973",
   "metadata": {},
   "outputs": [
    {
     "data": {
      "text/plain": [
       "1.9108347178647547e-17"
      ]
     },
     "execution_count": 31,
     "metadata": {},
     "output_type": "execute_result"
    }
   ],
   "source": [
    "PaA = 10**(np.log10(Facc.value)-2.49)/0.93\n",
    "PaA"
   ]
  },
  {
   "cell_type": "code",
   "execution_count": null,
   "id": "55cca0b7-95a8-448e-bf0e-c0f5e785bcf3",
   "metadata": {},
   "outputs": [],
   "source": [
    "import glob\n",
    "geoms = [x.split(\"/\")[-2] for x in glob.glob('/blue/adamginsburg/richardson.t/research/flux/r+24_models-1.2/*/')\n",
    "         if x.split(\"/\")[-2].startswith('s')]\n",
    "\n"
   ]
  }
 ],
 "metadata": {
  "kernelspec": {
   "display_name": "Python 3 (ipykernel)",
   "language": "python",
   "name": "python3"
  },
  "language_info": {
   "codemirror_mode": {
    "name": "ipython",
    "version": 3
   },
   "file_extension": ".py",
   "mimetype": "text/x-python",
   "name": "python",
   "nbconvert_exporter": "python",
   "pygments_lexer": "ipython3",
   "version": "3.9.12"
  }
 },
 "nbformat": 4,
 "nbformat_minor": 5
}
