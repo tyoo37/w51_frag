{
 "cells": [
  {
   "cell_type": "code",
   "execution_count": 1,
   "id": "3481c792-f689-4b09-992e-be6419d8bd5e",
   "metadata": {},
   "outputs": [
    {
     "data": {
      "text/html": [
       "<div><i>Table length=257</i>\n",
       "<table id=\"table22542612332624\" class=\"table-striped table-bordered table-condensed\">\n",
       "<thead><tr><th>Zini</th><th>MH</th><th>logAge</th><th>Mini</th><th>int_IMF</th><th>Mass</th><th>logL</th><th>logTe</th><th>logg</th><th>label</th><th>McoreTP</th><th>C_O</th><th>period0</th><th>period1</th><th>period2</th><th>period3</th><th>period4</th><th>pmode</th><th>Mloss</th><th>tau1m</th><th>X</th><th>Y</th><th>Xc</th><th>Xn</th><th>Xo</th><th>Cexcess</th><th>Z</th><th>mbolmag</th><th>F070Wmag</th><th>F090Wmag</th><th>F115Wmag</th><th>F150Wmag</th><th>F200Wmag</th><th>F277Wmag</th><th>F356Wmag</th><th>F444Wmag</th><th>F150W2mag</th><th>F322W2mag</th><th>F140Mmag</th><th>F162Mmag</th><th>F182Mmag</th><th>F210Mmag</th><th>F250Mmag</th><th>F300Mmag</th><th>F335Mmag</th><th>F360Mmag</th><th>F410Mmag</th><th>F430Mmag</th><th>F460Mmag</th><th>F480Mmag</th></tr></thead>\n",
       "<thead><tr><th>float64</th><th>float64</th><th>float64</th><th>float64</th><th>float64</th><th>float64</th><th>float64</th><th>float64</th><th>float64</th><th>int64</th><th>float64</th><th>float64</th><th>float64</th><th>float64</th><th>float64</th><th>float64</th><th>float64</th><th>int64</th><th>float64</th><th>float64</th><th>float64</th><th>float64</th><th>float64</th><th>float64</th><th>float64</th><th>float64</th><th>float64</th><th>float64</th><th>float64</th><th>float64</th><th>float64</th><th>float64</th><th>float64</th><th>float64</th><th>float64</th><th>float64</th><th>float64</th><th>float64</th><th>float64</th><th>float64</th><th>float64</th><th>float64</th><th>float64</th><th>float64</th><th>float64</th><th>float64</th><th>float64</th><th>float64</th><th>float64</th><th>float64</th></tr></thead>\n",
       "<tr><td>0.0152</td><td>0.01508</td><td>6.0</td><td>0.0900000036</td><td>1.0816895926</td><td>0.09</td><td>-1.321</td><td>3.4419</td><td>3.433</td><td>0</td><td>0.0</td><td>0.545</td><td>0.0</td><td>0.0</td><td>0.0</td><td>0.0</td><td>0.0</td><td>-1</td><td>-3.88e-14</td><td>0.0</td><td>0.7092</td><td>0.2755</td><td>0.002746</td><td>0.0007408</td><td>0.006719</td><td>-1.0</td><td>0.01527</td><td>8.073</td><td>9.489</td><td>7.387</td><td>6.244</td><td>5.728</td><td>5.318</td><td>5.11</td><td>4.674</td><td>4.509</td><td>5.722</td><td>4.893</td><td>5.939</td><td>5.408</td><td>5.412</td><td>5.21</td><td>5.172</td><td>5.048</td><td>4.789</td><td>4.611</td><td>4.474</td><td>4.508</td><td>4.549</td><td>4.535</td></tr>\n",
       "<tr><td>0.0152</td><td>0.01508</td><td>6.0</td><td>0.1000000015</td><td>1.1711064122</td><td>0.1</td><td>-1.221</td><td>3.4494</td><td>3.408</td><td>0</td><td>0.0</td><td>0.545</td><td>0.0</td><td>0.0</td><td>0.0</td><td>0.0</td><td>0.0</td><td>-1</td><td>-4.77e-14</td><td>0.0</td><td>0.7092</td><td>0.2755</td><td>0.002746</td><td>0.0007408</td><td>0.006719</td><td>-1.0</td><td>0.01527</td><td>7.822</td><td>9.128</td><td>7.104</td><td>6.0</td><td>5.474</td><td>5.077</td><td>4.883</td><td>4.459</td><td>4.297</td><td>5.477</td><td>4.673</td><td>5.679</td><td>5.161</td><td>5.166</td><td>4.974</td><td>4.945</td><td>4.823</td><td>4.571</td><td>4.397</td><td>4.262</td><td>4.295</td><td>4.337</td><td>4.324</td></tr>\n",
       "<tr><td>0.0152</td><td>0.01508</td><td>6.0</td><td>0.1098617315</td><td>1.2485734591</td><td>0.11</td><td>-1.138</td><td>3.4554</td><td>3.39</td><td>0</td><td>0.0</td><td>0.545</td><td>0.0</td><td>0.0</td><td>0.0</td><td>0.0</td><td>0.0</td><td>-1</td><td>-5.62e-14</td><td>0.0</td><td>0.7092</td><td>0.2755</td><td>0.002746</td><td>0.0007408</td><td>0.006719</td><td>-1.0</td><td>0.01527</td><td>7.615</td><td>8.842</td><td>6.874</td><td>5.799</td><td>5.263</td><td>4.876</td><td>4.697</td><td>4.281</td><td>4.122</td><td>5.274</td><td>4.491</td><td>5.466</td><td>4.954</td><td>4.961</td><td>4.777</td><td>4.759</td><td>4.638</td><td>4.393</td><td>4.22</td><td>4.087</td><td>4.12</td><td>4.164</td><td>4.151</td></tr>\n",
       "<tr><td>0.0152</td><td>0.01508</td><td>6.0</td><td>0.1200000122</td><td>1.3193155232</td><td>0.12</td><td>-1.057</td><td>3.4612</td><td>3.371</td><td>0</td><td>0.0</td><td>0.545</td><td>0.0</td><td>0.0</td><td>0.0</td><td>0.0</td><td>0.0</td><td>-1</td><td>-6.62e-14</td><td>0.0</td><td>0.7092</td><td>0.2755</td><td>0.002746</td><td>0.0007408</td><td>0.006719</td><td>-1.0</td><td>0.01527</td><td>7.413</td><td>8.572</td><td>6.653</td><td>5.603</td><td>5.057</td><td>4.68</td><td>4.516</td><td>4.108</td><td>3.952</td><td>5.076</td><td>4.314</td><td>5.258</td><td>4.751</td><td>4.76</td><td>4.584</td><td>4.578</td><td>4.458</td><td>4.218</td><td>4.047</td><td>3.916</td><td>3.948</td><td>3.995</td><td>3.982</td></tr>\n",
       "<tr><td>0.0152</td><td>0.01508</td><td>6.0</td><td>0.135400176</td><td>1.4130986479</td><td>0.135</td><td>-0.953</td><td>3.4689</td><td>3.35</td><td>0</td><td>0.0</td><td>0.545</td><td>0.0</td><td>0.0</td><td>0.0</td><td>0.0</td><td>0.0</td><td>-1</td><td>-8.14e-14</td><td>0.0</td><td>0.7092</td><td>0.2755</td><td>0.002746</td><td>0.0007408</td><td>0.006719</td><td>-1.0</td><td>0.01527</td><td>7.152</td><td>8.233</td><td>6.37</td><td>5.352</td><td>4.787</td><td>4.42</td><td>4.283</td><td>3.882</td><td>3.733</td><td>4.816</td><td>4.086</td><td>4.989</td><td>4.482</td><td>4.494</td><td>4.329</td><td>4.345</td><td>4.226</td><td>3.991</td><td>3.822</td><td>3.694</td><td>3.727</td><td>3.779</td><td>3.766</td></tr>\n",
       "<tr><td>0.0152</td><td>0.01508</td><td>6.0</td><td>0.1400000006</td><td>1.4384526719</td><td>0.14</td><td>-0.924</td><td>3.471</td><td>3.344</td><td>0</td><td>0.0</td><td>0.545</td><td>0.0</td><td>0.0</td><td>0.0</td><td>0.0</td><td>0.0</td><td>-1</td><td>-8.6e-14</td><td>0.0</td><td>0.7092</td><td>0.2755</td><td>0.002746</td><td>0.0007408</td><td>0.006719</td><td>-1.0</td><td>0.01527</td><td>7.081</td><td>8.143</td><td>6.294</td><td>5.284</td><td>4.713</td><td>4.348</td><td>4.219</td><td>3.821</td><td>3.673</td><td>4.745</td><td>4.023</td><td>4.916</td><td>4.409</td><td>4.421</td><td>4.259</td><td>4.281</td><td>4.163</td><td>3.929</td><td>3.76</td><td>3.633</td><td>3.667</td><td>3.72</td><td>3.707</td></tr>\n",
       "<tr><td>0.0152</td><td>0.01508</td><td>6.0</td><td>0.1473688781</td><td>1.4768915552</td><td>0.147</td><td>-0.885</td><td>3.4742</td><td>3.34</td><td>0</td><td>0.0</td><td>0.545</td><td>0.0</td><td>0.0</td><td>0.0</td><td>0.0</td><td>0.0</td><td>-1</td><td>-9.22e-14</td><td>0.0</td><td>0.7092</td><td>0.2755</td><td>0.002746</td><td>0.0007408</td><td>0.006719</td><td>-1.0</td><td>0.01527</td><td>6.982</td><td>8.014</td><td>6.188</td><td>5.191</td><td>4.611</td><td>4.249</td><td>4.131</td><td>3.737</td><td>3.591</td><td>4.647</td><td>3.937</td><td>4.815</td><td>4.307</td><td>4.319</td><td>4.162</td><td>4.193</td><td>4.075</td><td>3.845</td><td>3.676</td><td>3.551</td><td>3.585</td><td>3.64</td><td>3.627</td></tr>\n",
       "<tr><td>0.0152</td><td>0.01508</td><td>6.0</td><td>0.1649024487</td><td>1.5590894416</td><td>0.165</td><td>-0.809</td><td>3.4809</td><td>3.34</td><td>0</td><td>0.0</td><td>0.545</td><td>0.0</td><td>0.0</td><td>0.0</td><td>0.0</td><td>0.0</td><td>-1</td><td>-1.04e-13</td><td>0.0</td><td>0.7092</td><td>0.2755</td><td>0.002746</td><td>0.0007408</td><td>0.006719</td><td>-1.0</td><td>0.01527</td><td>6.793</td><td>7.761</td><td>5.984</td><td>5.014</td><td>4.417</td><td>4.059</td><td>3.963</td><td>3.578</td><td>3.438</td><td>4.461</td><td>3.774</td><td>4.622</td><td>4.114</td><td>4.125</td><td>3.976</td><td>4.026</td><td>3.908</td><td>3.684</td><td>3.517</td><td>3.396</td><td>3.43</td><td>3.49</td><td>3.477</td></tr>\n",
       "<tr><td>0.0152</td><td>0.01508</td><td>6.0</td><td>0.1705176085</td><td>1.5830422133</td><td>0.17</td><td>-0.798</td><td>3.4826</td><td>3.35</td><td>0</td><td>0.0</td><td>0.545</td><td>0.0</td><td>0.0</td><td>0.0</td><td>0.0</td><td>0.0</td><td>-1</td><td>-1.04e-13</td><td>0.0</td><td>0.7092</td><td>0.2755</td><td>0.002746</td><td>0.0007408</td><td>0.006719</td><td>-1.0</td><td>0.01527</td><td>6.765</td><td>7.712</td><td>5.952</td><td>4.99</td><td>4.388</td><td>4.03</td><td>3.937</td><td>3.557</td><td>3.419</td><td>4.433</td><td>3.751</td><td>4.593</td><td>4.086</td><td>4.095</td><td>3.949</td><td>4.001</td><td>3.882</td><td>3.661</td><td>3.496</td><td>3.377</td><td>3.41</td><td>3.471</td><td>3.457</td></tr>\n",
       "<tr><td>0.0152</td><td>0.01508</td><td>6.0</td><td>0.1760640442</td><td>1.6057158354</td><td>0.176</td><td>-0.776</td><td>3.4849</td><td>3.351</td><td>0</td><td>0.0</td><td>0.545</td><td>0.0</td><td>0.0</td><td>0.0</td><td>0.0</td><td>0.0</td><td>-1</td><td>-1.07e-13</td><td>0.0</td><td>0.7092</td><td>0.2755</td><td>0.002746</td><td>0.0007408</td><td>0.006719</td><td>-1.0</td><td>0.01527</td><td>6.71</td><td>7.635</td><td>5.893</td><td>4.94</td><td>4.331</td><td>3.974</td><td>3.887</td><td>3.511</td><td>3.376</td><td>4.379</td><td>3.703</td><td>4.536</td><td>4.03</td><td>4.037</td><td>3.894</td><td>3.951</td><td>3.831</td><td>3.615</td><td>3.451</td><td>3.333</td><td>3.366</td><td>3.428</td><td>3.414</td></tr>\n",
       "<tr><td>0.0152</td><td>0.01508</td><td>6.0</td><td>0.1806975752</td><td>1.6239571335</td><td>0.181</td><td>-0.751</td><td>3.4871</td><td>3.346</td><td>0</td><td>0.0</td><td>0.545</td><td>0.0</td><td>0.0</td><td>0.0</td><td>0.0</td><td>0.0</td><td>-1</td><td>-1.12e-13</td><td>0.0</td><td>0.7092</td><td>0.2755</td><td>0.002746</td><td>0.0007408</td><td>0.006719</td><td>-1.0</td><td>0.01527</td><td>6.648</td><td>7.554</td><td>5.829</td><td>4.883</td><td>4.267</td><td>3.91</td><td>3.83</td><td>3.458</td><td>3.325</td><td>4.318</td><td>3.648</td><td>4.473</td><td>3.966</td><td>3.972</td><td>3.832</td><td>3.895</td><td>3.774</td><td>3.561</td><td>3.399</td><td>3.282</td><td>3.316</td><td>3.378</td><td>3.365</td></tr>\n",
       "<tr><td>0.0152</td><td>0.01508</td><td>6.0</td><td>0.1863481998</td><td>1.6453964129</td><td>0.186</td><td>-0.717</td><td>3.49</td><td>3.337</td><td>0</td><td>0.0</td><td>0.545</td><td>0.0</td><td>0.0</td><td>0.0</td><td>0.0</td><td>0.0</td><td>-1</td><td>-1.21e-13</td><td>0.0</td><td>0.7092</td><td>0.2755</td><td>0.002746</td><td>0.0007408</td><td>0.006719</td><td>-1.0</td><td>0.01527</td><td>6.561</td><td>7.445</td><td>5.74</td><td>4.803</td><td>4.178</td><td>3.821</td><td>3.75</td><td>3.383</td><td>3.254</td><td>4.231</td><td>3.571</td><td>4.385</td><td>3.876</td><td>3.88</td><td>3.744</td><td>3.817</td><td>3.694</td><td>3.485</td><td>3.324</td><td>3.21</td><td>3.243</td><td>3.308</td><td>3.294</td></tr>\n",
       "<tr><td>...</td><td>...</td><td>...</td><td>...</td><td>...</td><td>...</td><td>...</td><td>...</td><td>...</td><td>...</td><td>...</td><td>...</td><td>...</td><td>...</td><td>...</td><td>...</td><td>...</td><td>...</td><td>...</td><td>...</td><td>...</td><td>...</td><td>...</td><td>...</td><td>...</td><td>...</td><td>...</td><td>...</td><td>...</td><td>...</td><td>...</td><td>...</td><td>...</td><td>...</td><td>...</td><td>...</td><td>...</td><td>...</td><td>...</td><td>...</td><td>...</td><td>...</td><td>...</td><td>...</td><td>...</td><td>...</td><td>...</td><td>...</td><td>...</td><td>...</td></tr>\n",
       "<tr><td>0.0152</td><td>0.01508</td><td>6.0</td><td>350.0039978027</td><td>2.6336187652</td><td>43.783</td><td>6.098</td><td>4.7462</td><td>3.918</td><td>0</td><td>0.0</td><td>1.494</td><td>0.0</td><td>0.0</td><td>0.0</td><td>0.0</td><td>0.0</td><td>-1</td><td>-7.98e-06</td><td>0.0</td><td>0.05848</td><td>0.9265</td><td>0.0002291</td><td>0.009292</td><td>0.0003731</td><td>-1.0</td><td>0.01497</td><td>-10.476</td><td>-5.662</td><td>-5.397</td><td>-5.189</td><td>-5.086</td><td>-5.032</td><td>-5.006</td><td>-4.998</td><td>-5.077</td><td>-5.117</td><td>-5.003</td><td>-5.103</td><td>-5.062</td><td>-5.062</td><td>-4.998</td><td>-4.977</td><td>-5.026</td><td>-4.988</td><td>-5.004</td><td>-5.061</td><td>-5.043</td><td>-5.103</td><td>-5.162</td></tr>\n",
       "<tr><td>0.0152</td><td>0.01508</td><td>6.0</td><td>350.0040588379</td><td>2.6336187652</td><td>42.059</td><td>6.08</td><td>4.7533</td><td>3.947</td><td>0</td><td>0.0</td><td>1.518</td><td>0.0</td><td>0.0</td><td>0.0</td><td>0.0</td><td>0.0</td><td>-1</td><td>-7.4e-06</td><td>0.0</td><td>0.05433</td><td>0.9307</td><td>0.0002315</td><td>0.009288</td><td>0.0003755</td><td>-1.0</td><td>0.015</td><td>-10.43</td><td>-5.562</td><td>-5.296</td><td>-5.088</td><td>-4.985</td><td>-4.93</td><td>-4.903</td><td>-4.895</td><td>-4.973</td><td>-5.016</td><td>-4.9</td><td>-5.001</td><td>-4.96</td><td>-4.959</td><td>-4.896</td><td>-4.875</td><td>-4.922</td><td>-4.885</td><td>-4.9</td><td>-4.957</td><td>-4.939</td><td>-4.998</td><td>-5.058</td></tr>\n",
       "<tr><td>0.0152</td><td>0.01508</td><td>6.0</td><td>350.0040893555</td><td>2.6336187652</td><td>40.118</td><td>6.075</td><td>4.8226</td><td>4.209</td><td>0</td><td>0.0</td><td>1.541</td><td>0.0</td><td>0.0</td><td>0.0</td><td>0.0</td><td>0.0</td><td>-1</td><td>-7.05e-06</td><td>0.0</td><td>0.05105</td><td>0.9339</td><td>0.000234</td><td>0.009282</td><td>0.0003784</td><td>-1.0</td><td>0.01501</td><td>-10.418</td><td>-5.004</td><td>-4.733</td><td>-4.524</td><td>-4.416</td><td>-4.363</td><td>-4.335</td><td>-4.329</td><td>-4.41</td><td>-4.449</td><td>-4.333</td><td>-4.432</td><td>-4.391</td><td>-4.394</td><td>-4.325</td><td>-4.304</td><td>-4.356</td><td>-4.318</td><td>-4.335</td><td>-4.396</td><td>-4.378</td><td>-4.436</td><td>-4.487</td></tr>\n",
       "<tr><td>0.0152</td><td>0.01508</td><td>6.0</td><td>350.004119873</td><td>2.6336187652</td><td>39.145</td><td>6.081</td><td>4.9055</td><td>4.524</td><td>0</td><td>0.0</td><td>1.408</td><td>0.0</td><td>0.0</td><td>0.0</td><td>0.0</td><td>0.0</td><td>-1</td><td>-7.22e-06</td><td>0.0</td><td>0.04614</td><td>0.9388</td><td>0.0002216</td><td>0.0093</td><td>0.0003791</td><td>-1.0</td><td>0.01501</td><td>-10.431</td><td>-4.397</td><td>-4.124</td><td>-3.927</td><td>-3.824</td><td>-3.802</td><td>-3.804</td><td>-3.821</td><td>-3.943</td><td>-3.863</td><td>-3.813</td><td>-3.835</td><td>-3.803</td><td>-3.835</td><td>-3.759</td><td>-3.75</td><td>-3.848</td><td>-3.802</td><td>-3.831</td><td>-3.92</td><td>-3.901</td><td>-3.979</td><td>-4.047</td></tr>\n",
       "<tr><td>0.0152</td><td>0.01508</td><td>6.0</td><td>350.0041503906</td><td>2.6336187652</td><td>38.512</td><td>6.1</td><td>5.0472</td><td>5.064</td><td>0</td><td>0.0</td><td>1.407</td><td>0.0</td><td>0.0</td><td>0.0</td><td>0.0</td><td>0.0</td><td>-1</td><td>-7.55e-06</td><td>0.0</td><td>0.04257</td><td>0.9424</td><td>0.000222</td><td>0.009302</td><td>0.0003798</td><td>-1.0</td><td>0.01501</td><td>-10.48</td><td>-3.647</td><td>-3.408</td><td>-3.255</td><td>-3.192</td><td>-3.228</td><td>-3.31</td><td>-3.4</td><td>-3.559</td><td>-3.229</td><td>-3.352</td><td>-3.194</td><td>-3.189</td><td>-3.246</td><td>-3.2</td><td>-3.241</td><td>-3.378</td><td>-3.369</td><td>-3.415</td><td>-3.51</td><td>-3.532</td><td>-3.61</td><td>-3.681</td></tr>\n",
       "<tr><td>0.0152</td><td>0.01508</td><td>6.0</td><td>350.0042114258</td><td>2.6336187652</td><td>36.157</td><td>6.06</td><td>5.0705</td><td>5.17</td><td>0</td><td>0.0</td><td>1.766</td><td>0.0</td><td>0.0</td><td>0.0</td><td>0.0</td><td>0.0</td><td>-1</td><td>-6.6e-06</td><td>0.0</td><td>0.03097</td><td>0.954</td><td>0.000248</td><td>0.009265</td><td>0.0003791</td><td>-1.0</td><td>0.01501</td><td>-10.379</td><td>-3.434</td><td>-3.196</td><td>-3.041</td><td>-2.98</td><td>-3.019</td><td>-3.107</td><td>-3.201</td><td>-3.364</td><td>-3.018</td><td>-3.15</td><td>-2.982</td><td>-2.978</td><td>-3.036</td><td>-2.992</td><td>-3.036</td><td>-3.178</td><td>-3.169</td><td>-3.216</td><td>-3.311</td><td>-3.336</td><td>-3.417</td><td>-3.493</td></tr>\n",
       "<tr><td>0.0152</td><td>0.01508</td><td>6.0</td><td>350.0042724609</td><td>2.6336187652</td><td>33.778</td><td>6.025</td><td>5.0718</td><td>5.181</td><td>0</td><td>0.0</td><td>53.809</td><td>0.0</td><td>0.0</td><td>0.0</td><td>0.0</td><td>0.0</td><td>-1</td><td>-5.54e-06</td><td>0.0</td><td>0.03027</td><td>0.9253</td><td>0.02704</td><td>0.005078</td><td>0.000782</td><td>10.862</td><td>0.04446</td><td>-10.293</td><td>-3.342</td><td>-3.104</td><td>-2.95</td><td>-2.889</td><td>-2.929</td><td>-3.018</td><td>-3.113</td><td>-3.276</td><td>-2.927</td><td>-3.061</td><td>-2.891</td><td>-2.887</td><td>-2.945</td><td>-2.902</td><td>-2.946</td><td>-3.089</td><td>-3.08</td><td>-3.128</td><td>-3.223</td><td>-3.248</td><td>-3.33</td><td>-3.406</td></tr>\n",
       "<tr><td>0.0152</td><td>0.01508</td><td>6.0</td><td>350.0043640137</td><td>2.6336187652</td><td>31.097</td><td>5.987</td><td>5.0682</td><td>5.168</td><td>0</td><td>0.0</td><td>35.506</td><td>0.0</td><td>0.0</td><td>0.0</td><td>0.0</td><td>0.0</td><td>-1</td><td>-3.46e-06</td><td>0.0</td><td>0.03098</td><td>0.7843</td><td>0.1581</td><td>3.237e-05</td><td>0.006958</td><td>11.614</td><td>0.1848</td><td>-10.199</td><td>-4.022</td><td>-3.879</td><td>-3.873</td><td>-4.024</td><td>-4.229</td><td>-4.563</td><td>-4.857</td><td>-5.122</td><td>-4.033</td><td>-4.704</td><td>-3.988</td><td>-4.082</td><td>-4.174</td><td>-4.283</td><td>-4.458</td><td>-4.657</td><td>-4.794</td><td>-4.887</td><td>-5.038</td><td>-5.1</td><td>-5.205</td><td>-5.251</td></tr>\n",
       "<tr><td>0.0152</td><td>0.01508</td><td>6.0</td><td>350.0045166016</td><td>2.6336187652</td><td>28.509</td><td>5.955</td><td>5.0664</td><td>5.155</td><td>0</td><td>0.0</td><td>16.831</td><td>0.0</td><td>0.0</td><td>0.0</td><td>0.0</td><td>0.0</td><td>-1</td><td>-2.15e-06</td><td>0.0</td><td>0.03202</td><td>0.6582</td><td>0.2675</td><td>3.345e-05</td><td>0.02262</td><td>11.814</td><td>0.3097</td><td>-10.118</td><td>-3.941</td><td>-3.798</td><td>-3.792</td><td>-3.943</td><td>-4.148</td><td>-4.483</td><td>-4.776</td><td>-5.041</td><td>-3.952</td><td>-4.624</td><td>-3.907</td><td>-4.001</td><td>-4.093</td><td>-4.202</td><td>-4.377</td><td>-4.576</td><td>-4.714</td><td>-4.806</td><td>-4.957</td><td>-5.019</td><td>-5.124</td><td>-5.17</td></tr>\n",
       "<tr><td>0.0152</td><td>0.01508</td><td>6.0</td><td>350.0046386719</td><td>2.6336187652</td><td>26.786</td><td>5.937</td><td>5.0698</td><td>5.16</td><td>0</td><td>0.0</td><td>10.127</td><td>0.0</td><td>0.0</td><td>0.0</td><td>0.0</td><td>0.0</td><td>-1</td><td>-1.41e-06</td><td>0.0</td><td>0.03297</td><td>0.5542</td><td>0.3474</td><td>3.444e-05</td><td>0.04571</td><td>11.898</td><td>0.4129</td><td>-10.073</td><td>-3.896</td><td>-3.753</td><td>-3.747</td><td>-3.898</td><td>-4.103</td><td>-4.437</td><td>-4.731</td><td>-4.996</td><td>-3.907</td><td>-4.578</td><td>-3.862</td><td>-3.956</td><td>-4.048</td><td>-4.157</td><td>-4.332</td><td>-4.531</td><td>-4.668</td><td>-4.761</td><td>-4.912</td><td>-4.974</td><td>-5.079</td><td>-5.125</td></tr>\n",
       "<tr><td>0.0152</td><td>0.01508</td><td>6.0</td><td>350.0047607422</td><td>2.6336187652</td><td>25.705</td><td>5.931</td><td>5.0814</td><td>5.195</td><td>0</td><td>0.0</td><td>6.212</td><td>0.0</td><td>0.0</td><td>0.0</td><td>0.0</td><td>0.0</td><td>-1</td><td>-8.36e-07</td><td>0.0</td><td>0.03382</td><td>0.4297</td><td>0.4258</td><td>3.533e-05</td><td>0.09075</td><td>11.945</td><td>0.5365</td><td>-10.057</td><td>-3.881</td><td>-3.738</td><td>-3.732</td><td>-3.883</td><td>-4.088</td><td>-4.422</td><td>-4.715</td><td>-4.981</td><td>-3.892</td><td>-4.563</td><td>-3.847</td><td>-3.941</td><td>-4.032</td><td>-4.142</td><td>-4.317</td><td>-4.516</td><td>-4.653</td><td>-4.746</td><td>-4.897</td><td>-4.959</td><td>-5.064</td><td>-5.11</td></tr>\n",
       "<tr><td>0.0152</td><td>0.01508</td><td>6.0</td><td>350.0048217773</td><td>2.6336187652</td><td>25.285</td><td>5.936</td><td>5.1031</td><td>5.27</td><td>0</td><td>0.0</td><td>5.506</td><td>0.0</td><td>0.0</td><td>0.0</td><td>0.0</td><td>0.0</td><td>-1</td><td>-8.22e-07</td><td>0.0</td><td>0.03427</td><td>0.4025</td><td>0.4395</td><td>3.58e-05</td><td>0.1038</td><td>11.944</td><td>0.5632</td><td>-10.069</td><td>-3.893</td><td>-3.75</td><td>-3.744</td><td>-3.895</td><td>-4.1</td><td>-4.434</td><td>-4.727</td><td>-4.993</td><td>-3.904</td><td>-4.575</td><td>-3.859</td><td>-3.953</td><td>-4.044</td><td>-4.154</td><td>-4.329</td><td>-4.528</td><td>-4.665</td><td>-4.758</td><td>-4.909</td><td>-4.971</td><td>-5.076</td><td>-5.122</td></tr>\n",
       "<tr><td>0.0152</td><td>0.01508</td><td>6.0</td><td>350.0048522949</td><td>2.6336187652</td><td>25.089</td><td>6.037</td><td>5.2515</td><td>5.759</td><td>3</td><td>0.0</td><td>5.268</td><td>0.0</td><td>0.01</td><td>0.01</td><td>0.0</td><td>0.0</td><td>0</td><td>-1.93e-06</td><td>0.0</td><td>0.03444</td><td>0.3928</td><td>0.4434</td><td>3.597e-05</td><td>0.1095</td><td>11.942</td><td>0.5728</td><td>-10.322</td><td>-4.146</td><td>-4.003</td><td>-3.997</td><td>-4.148</td><td>-4.353</td><td>-4.687</td><td>-4.98</td><td>-5.246</td><td>-4.157</td><td>-4.828</td><td>-4.112</td><td>-4.206</td><td>-4.297</td><td>-4.407</td><td>-4.582</td><td>-4.781</td><td>-4.918</td><td>-5.011</td><td>-5.162</td><td>-5.224</td><td>-5.329</td><td>-5.375</td></tr>\n",
       "</table></div>"
      ],
      "text/plain": [
       "<Table length=257>\n",
       "  Zini     MH    logAge      Mini        int_IMF      Mass    logL  ... F335Mmag F360Mmag F410Mmag F430Mmag F460Mmag F480Mmag\n",
       "float64 float64 float64    float64       float64    float64 float64 ... float64  float64  float64  float64  float64  float64 \n",
       "------- ------- ------- -------------- ------------ ------- ------- ... -------- -------- -------- -------- -------- --------\n",
       " 0.0152 0.01508     6.0   0.0900000036 1.0816895926    0.09  -1.321 ...    4.789    4.611    4.474    4.508    4.549    4.535\n",
       " 0.0152 0.01508     6.0   0.1000000015 1.1711064122     0.1  -1.221 ...    4.571    4.397    4.262    4.295    4.337    4.324\n",
       " 0.0152 0.01508     6.0   0.1098617315 1.2485734591    0.11  -1.138 ...    4.393     4.22    4.087     4.12    4.164    4.151\n",
       " 0.0152 0.01508     6.0   0.1200000122 1.3193155232    0.12  -1.057 ...    4.218    4.047    3.916    3.948    3.995    3.982\n",
       " 0.0152 0.01508     6.0    0.135400176 1.4130986479   0.135  -0.953 ...    3.991    3.822    3.694    3.727    3.779    3.766\n",
       " 0.0152 0.01508     6.0   0.1400000006 1.4384526719    0.14  -0.924 ...    3.929     3.76    3.633    3.667     3.72    3.707\n",
       " 0.0152 0.01508     6.0   0.1473688781 1.4768915552   0.147  -0.885 ...    3.845    3.676    3.551    3.585     3.64    3.627\n",
       " 0.0152 0.01508     6.0   0.1649024487 1.5590894416   0.165  -0.809 ...    3.684    3.517    3.396     3.43     3.49    3.477\n",
       " 0.0152 0.01508     6.0   0.1705176085 1.5830422133    0.17  -0.798 ...    3.661    3.496    3.377     3.41    3.471    3.457\n",
       " 0.0152 0.01508     6.0   0.1760640442 1.6057158354   0.176  -0.776 ...    3.615    3.451    3.333    3.366    3.428    3.414\n",
       " 0.0152 0.01508     6.0   0.1806975752 1.6239571335   0.181  -0.751 ...    3.561    3.399    3.282    3.316    3.378    3.365\n",
       " 0.0152 0.01508     6.0   0.1863481998 1.6453964129   0.186  -0.717 ...    3.485    3.324     3.21    3.243    3.308    3.294\n",
       "    ...     ...     ...            ...          ...     ...     ... ...      ...      ...      ...      ...      ...      ...\n",
       " 0.0152 0.01508     6.0 350.0039978027 2.6336187652  43.783   6.098 ...   -4.988   -5.004   -5.061   -5.043   -5.103   -5.162\n",
       " 0.0152 0.01508     6.0 350.0040588379 2.6336187652  42.059    6.08 ...   -4.885     -4.9   -4.957   -4.939   -4.998   -5.058\n",
       " 0.0152 0.01508     6.0 350.0040893555 2.6336187652  40.118   6.075 ...   -4.318   -4.335   -4.396   -4.378   -4.436   -4.487\n",
       " 0.0152 0.01508     6.0  350.004119873 2.6336187652  39.145   6.081 ...   -3.802   -3.831    -3.92   -3.901   -3.979   -4.047\n",
       " 0.0152 0.01508     6.0 350.0041503906 2.6336187652  38.512     6.1 ...   -3.369   -3.415    -3.51   -3.532    -3.61   -3.681\n",
       " 0.0152 0.01508     6.0 350.0042114258 2.6336187652  36.157    6.06 ...   -3.169   -3.216   -3.311   -3.336   -3.417   -3.493\n",
       " 0.0152 0.01508     6.0 350.0042724609 2.6336187652  33.778   6.025 ...    -3.08   -3.128   -3.223   -3.248    -3.33   -3.406\n",
       " 0.0152 0.01508     6.0 350.0043640137 2.6336187652  31.097   5.987 ...   -4.794   -4.887   -5.038     -5.1   -5.205   -5.251\n",
       " 0.0152 0.01508     6.0 350.0045166016 2.6336187652  28.509   5.955 ...   -4.714   -4.806   -4.957   -5.019   -5.124    -5.17\n",
       " 0.0152 0.01508     6.0 350.0046386719 2.6336187652  26.786   5.937 ...   -4.668   -4.761   -4.912   -4.974   -5.079   -5.125\n",
       " 0.0152 0.01508     6.0 350.0047607422 2.6336187652  25.705   5.931 ...   -4.653   -4.746   -4.897   -4.959   -5.064    -5.11\n",
       " 0.0152 0.01508     6.0 350.0048217773 2.6336187652  25.285   5.936 ...   -4.665   -4.758   -4.909   -4.971   -5.076   -5.122\n",
       " 0.0152 0.01508     6.0 350.0048522949 2.6336187652  25.089   6.037 ...   -4.918   -5.011   -5.162   -5.224   -5.329   -5.375"
      ]
     },
     "execution_count": 1,
     "metadata": {},
     "output_type": "execute_result"
    }
   ],
   "source": [
    "from astropy.table import Table\n",
    "import numpy as np\n",
    "import matplotlib.pyplot as plt\n",
    "\n",
    "\n",
    "basepath = '/home/t.yoo'\n",
    "parsec_nircam = Table.read(f'{basepath}/iso_parsec_nircam.dat',\n",
    "                format='ascii', delimiter=' ',)\n",
    "parsec_miri = Table.read(f'{basepath}/iso_parsec_miri.dat',\n",
    "                   format='ascii', delimiter=' ', comment='#')\n",
    "parsec_nircam"
   ]
  },
  {
   "cell_type": "code",
   "execution_count": 2,
   "id": "a95f609c-467f-4642-a7a3-7b0005db8689",
   "metadata": {},
   "outputs": [
    {
     "data": {
      "text/plain": [
       "['F140Mmag',\n",
       " 'F162Mmag',\n",
       " 'F182Mmag',\n",
       " 'F210Mmag',\n",
       " 'F250Mmag',\n",
       " 'F300Mmag',\n",
       " 'F335Mmag',\n",
       " 'F360Mmag',\n",
       " 'F410Mmag',\n",
       " 'F430Mmag',\n",
       " 'F460Mmag',\n",
       " 'F480Mmag']"
      ]
     },
     "execution_count": 2,
     "metadata": {},
     "output_type": "execute_result"
    }
   ],
   "source": [
    "filters_nircam = parsec_nircam.colnames[38:]\n",
    "filters_nircam\n"
   ]
  },
  {
   "cell_type": "code",
   "execution_count": 6,
   "id": "9b3e2fb2-8353-4bc2-bfa1-f94dae76eccc",
   "metadata": {},
   "outputs": [
    {
     "data": {
      "text/plain": [
       "[1.4, 1.62, 1.82, 2.1, 2.5, 3.0, 3.35, 3.6, 4.1, 4.3, 4.6, 4.8]"
      ]
     },
     "execution_count": 6,
     "metadata": {},
     "output_type": "execute_result"
    }
   ],
   "source": [
    "wl_nircam = [int(filter[1:4])/100 for filter in filters_nircam]\n",
    "wl_nircam"
   ]
  },
  {
   "cell_type": "code",
   "execution_count": 14,
   "id": "eaa01d86-2c1c-49fd-a661-a66f84e85626",
   "metadata": {},
   "outputs": [
    {
     "data": {
      "text/plain": [
       "[5.939,\n",
       " 5.408,\n",
       " 5.412,\n",
       " 5.21,\n",
       " 5.172,\n",
       " 5.048,\n",
       " 4.789,\n",
       " 4.611,\n",
       " 4.474,\n",
       " 4.508,\n",
       " 4.549,\n",
       " 4.535]"
      ]
     },
     "execution_count": 14,
     "metadata": {},
     "output_type": "execute_result"
    }
   ],
   "source": [
    "iso_nircam_009 = list(parsec_nircam[0])[38:]\n",
    "iso_nircam_009"
   ]
  },
  {
   "cell_type": "code",
   "execution_count": 15,
   "id": "889a3169-f2f2-4f09-8d36-6b73c415c9c8",
   "metadata": {},
   "outputs": [
    {
     "data": {
      "text/html": [
       "<div><i>Table length=257</i>\n",
       "<table id=\"table22542603333776\" class=\"table-striped table-bordered table-condensed\">\n",
       "<thead><tr><th>Zini</th><th>MH</th><th>logAge</th><th>Mini</th><th>int_IMF</th><th>Mass</th><th>logL</th><th>logTe</th><th>logg</th><th>label</th><th>McoreTP</th><th>C_O</th><th>period0</th><th>period1</th><th>period2</th><th>period3</th><th>period4</th><th>pmode</th><th>Mloss</th><th>tau1m</th><th>X</th><th>Y</th><th>Xc</th><th>Xn</th><th>Xo</th><th>Cexcess</th><th>Z</th><th>mbolmag</th><th>F560Wmag</th><th>F770Wmag</th><th>F1000Wmag</th><th>F1130Wmag</th><th>F1280Wmag</th><th>F1500Wmag</th><th>F1800Wmag</th><th>F2100Wmag</th><th>F2550Wmag</th></tr></thead>\n",
       "<thead><tr><th>float64</th><th>float64</th><th>float64</th><th>float64</th><th>float64</th><th>float64</th><th>float64</th><th>float64</th><th>float64</th><th>int64</th><th>float64</th><th>float64</th><th>float64</th><th>float64</th><th>float64</th><th>float64</th><th>float64</th><th>int64</th><th>float64</th><th>float64</th><th>float64</th><th>float64</th><th>float64</th><th>float64</th><th>float64</th><th>float64</th><th>float64</th><th>float64</th><th>float64</th><th>float64</th><th>float64</th><th>float64</th><th>float64</th><th>float64</th><th>float64</th><th>float64</th><th>float64</th></tr></thead>\n",
       "<tr><td>0.0152</td><td>0.01508</td><td>6.0</td><td>0.0900000036</td><td>1.0816895926</td><td>0.09</td><td>-1.321</td><td>3.4419</td><td>3.433</td><td>0</td><td>0.0</td><td>0.545</td><td>0.0</td><td>0.0</td><td>0.0</td><td>0.0</td><td>0.0</td><td>-1</td><td>-3.88e-14</td><td>0.0</td><td>0.7092</td><td>0.2755</td><td>0.002746</td><td>0.0007408</td><td>0.006719</td><td>-1.0</td><td>0.01527</td><td>8.073</td><td>4.472</td><td>4.402</td><td>4.499</td><td>4.653</td><td>4.31</td><td>3.944</td><td>3.832</td><td>4.002</td><td>3.551</td></tr>\n",
       "<tr><td>0.0152</td><td>0.01508</td><td>6.0</td><td>0.1000000015</td><td>1.1711064122</td><td>0.1</td><td>-1.221</td><td>3.4494</td><td>3.408</td><td>0</td><td>0.0</td><td>0.545</td><td>0.0</td><td>0.0</td><td>0.0</td><td>0.0</td><td>0.0</td><td>-1</td><td>-4.77e-14</td><td>0.0</td><td>0.7092</td><td>0.2755</td><td>0.002746</td><td>0.0007408</td><td>0.006719</td><td>-1.0</td><td>0.01527</td><td>7.822</td><td>4.263</td><td>4.197</td><td>4.299</td><td>4.455</td><td>4.112</td><td>3.746</td><td>3.634</td><td>3.804</td><td>3.353</td></tr>\n",
       "<tr><td>0.0152</td><td>0.01508</td><td>6.0</td><td>0.1098617315</td><td>1.2485734591</td><td>0.11</td><td>-1.138</td><td>3.4554</td><td>3.39</td><td>0</td><td>0.0</td><td>0.545</td><td>0.0</td><td>0.0</td><td>0.0</td><td>0.0</td><td>0.0</td><td>-1</td><td>-5.62e-14</td><td>0.0</td><td>0.7092</td><td>0.2755</td><td>0.002746</td><td>0.0007408</td><td>0.006719</td><td>-1.0</td><td>0.01527</td><td>7.615</td><td>4.091</td><td>4.029</td><td>4.136</td><td>4.293</td><td>3.951</td><td>3.584</td><td>3.472</td><td>3.642</td><td>3.192</td></tr>\n",
       "<tr><td>0.0152</td><td>0.01508</td><td>6.0</td><td>0.1200000122</td><td>1.3193155232</td><td>0.12</td><td>-1.057</td><td>3.4612</td><td>3.371</td><td>0</td><td>0.0</td><td>0.545</td><td>0.0</td><td>0.0</td><td>0.0</td><td>0.0</td><td>0.0</td><td>-1</td><td>-6.62e-14</td><td>0.0</td><td>0.7092</td><td>0.2755</td><td>0.002746</td><td>0.0007408</td><td>0.006719</td><td>-1.0</td><td>0.01527</td><td>7.413</td><td>3.924</td><td>3.865</td><td>3.977</td><td>4.135</td><td>3.792</td><td>3.426</td><td>3.313</td><td>3.484</td><td>3.034</td></tr>\n",
       "<tr><td>0.0152</td><td>0.01508</td><td>6.0</td><td>0.135400176</td><td>1.4130986479</td><td>0.135</td><td>-0.953</td><td>3.4689</td><td>3.35</td><td>0</td><td>0.0</td><td>0.545</td><td>0.0</td><td>0.0</td><td>0.0</td><td>0.0</td><td>0.0</td><td>-1</td><td>-8.14e-14</td><td>0.0</td><td>0.7092</td><td>0.2755</td><td>0.002746</td><td>0.0007408</td><td>0.006719</td><td>-1.0</td><td>0.01527</td><td>7.152</td><td>3.709</td><td>3.656</td><td>3.772</td><td>3.932</td><td>3.589</td><td>3.223</td><td>3.111</td><td>3.282</td><td>2.832</td></tr>\n",
       "<tr><td>0.0152</td><td>0.01508</td><td>6.0</td><td>0.1400000006</td><td>1.4384526719</td><td>0.14</td><td>-0.924</td><td>3.471</td><td>3.344</td><td>0</td><td>0.0</td><td>0.545</td><td>0.0</td><td>0.0</td><td>0.0</td><td>0.0</td><td>0.0</td><td>-1</td><td>-8.6e-14</td><td>0.0</td><td>0.7092</td><td>0.2755</td><td>0.002746</td><td>0.0007408</td><td>0.006719</td><td>-1.0</td><td>0.01527</td><td>7.081</td><td>3.65</td><td>3.598</td><td>3.716</td><td>3.877</td><td>3.534</td><td>3.168</td><td>3.056</td><td>3.227</td><td>2.777</td></tr>\n",
       "<tr><td>0.0152</td><td>0.01508</td><td>6.0</td><td>0.1473688781</td><td>1.4768915552</td><td>0.147</td><td>-0.885</td><td>3.4742</td><td>3.34</td><td>0</td><td>0.0</td><td>0.545</td><td>0.0</td><td>0.0</td><td>0.0</td><td>0.0</td><td>0.0</td><td>-1</td><td>-9.22e-14</td><td>0.0</td><td>0.7092</td><td>0.2755</td><td>0.002746</td><td>0.0007408</td><td>0.006719</td><td>-1.0</td><td>0.01527</td><td>6.982</td><td>3.571</td><td>3.52</td><td>3.641</td><td>3.802</td><td>3.459</td><td>3.093</td><td>2.981</td><td>3.153</td><td>2.702</td></tr>\n",
       "<tr><td>0.0152</td><td>0.01508</td><td>6.0</td><td>0.1649024487</td><td>1.5590894416</td><td>0.165</td><td>-0.809</td><td>3.4809</td><td>3.34</td><td>0</td><td>0.0</td><td>0.545</td><td>0.0</td><td>0.0</td><td>0.0</td><td>0.0</td><td>0.0</td><td>-1</td><td>-1.04e-13</td><td>0.0</td><td>0.7092</td><td>0.2755</td><td>0.002746</td><td>0.0007408</td><td>0.006719</td><td>-1.0</td><td>0.01527</td><td>6.793</td><td>3.42</td><td>3.373</td><td>3.5</td><td>3.662</td><td>3.319</td><td>2.953</td><td>2.841</td><td>3.013</td><td>2.563</td></tr>\n",
       "<tr><td>0.0152</td><td>0.01508</td><td>6.0</td><td>0.1705176085</td><td>1.5830422133</td><td>0.17</td><td>-0.798</td><td>3.4826</td><td>3.35</td><td>0</td><td>0.0</td><td>0.545</td><td>0.0</td><td>0.0</td><td>0.0</td><td>0.0</td><td>0.0</td><td>-1</td><td>-1.04e-13</td><td>0.0</td><td>0.7092</td><td>0.2755</td><td>0.002746</td><td>0.0007408</td><td>0.006719</td><td>-1.0</td><td>0.01527</td><td>6.765</td><td>3.4</td><td>3.353</td><td>3.482</td><td>3.645</td><td>3.302</td><td>2.936</td><td>2.824</td><td>2.996</td><td>2.546</td></tr>\n",
       "<tr><td>0.0152</td><td>0.01508</td><td>6.0</td><td>0.1760640442</td><td>1.6057158354</td><td>0.176</td><td>-0.776</td><td>3.4849</td><td>3.351</td><td>0</td><td>0.0</td><td>0.545</td><td>0.0</td><td>0.0</td><td>0.0</td><td>0.0</td><td>0.0</td><td>-1</td><td>-1.07e-13</td><td>0.0</td><td>0.7092</td><td>0.2755</td><td>0.002746</td><td>0.0007408</td><td>0.006719</td><td>-1.0</td><td>0.01527</td><td>6.71</td><td>3.357</td><td>3.31</td><td>3.442</td><td>3.605</td><td>3.262</td><td>2.896</td><td>2.784</td><td>2.956</td><td>2.506</td></tr>\n",
       "<tr><td>0.0152</td><td>0.01508</td><td>6.0</td><td>0.1806975752</td><td>1.6239571335</td><td>0.181</td><td>-0.751</td><td>3.4871</td><td>3.346</td><td>0</td><td>0.0</td><td>0.545</td><td>0.0</td><td>0.0</td><td>0.0</td><td>0.0</td><td>0.0</td><td>-1</td><td>-1.12e-13</td><td>0.0</td><td>0.7092</td><td>0.2755</td><td>0.002746</td><td>0.0007408</td><td>0.006719</td><td>-1.0</td><td>0.01527</td><td>6.648</td><td>3.307</td><td>3.26</td><td>3.395</td><td>3.558</td><td>3.216</td><td>2.85</td><td>2.738</td><td>2.909</td><td>2.459</td></tr>\n",
       "<tr><td>0.0152</td><td>0.01508</td><td>6.0</td><td>0.1863481998</td><td>1.6453964129</td><td>0.186</td><td>-0.717</td><td>3.49</td><td>3.337</td><td>0</td><td>0.0</td><td>0.545</td><td>0.0</td><td>0.0</td><td>0.0</td><td>0.0</td><td>0.0</td><td>-1</td><td>-1.21e-13</td><td>0.0</td><td>0.7092</td><td>0.2755</td><td>0.002746</td><td>0.0007408</td><td>0.006719</td><td>-1.0</td><td>0.01527</td><td>6.561</td><td>3.236</td><td>3.19</td><td>3.328</td><td>3.492</td><td>3.149</td><td>2.783</td><td>2.671</td><td>2.842</td><td>2.392</td></tr>\n",
       "<tr><td>...</td><td>...</td><td>...</td><td>...</td><td>...</td><td>...</td><td>...</td><td>...</td><td>...</td><td>...</td><td>...</td><td>...</td><td>...</td><td>...</td><td>...</td><td>...</td><td>...</td><td>...</td><td>...</td><td>...</td><td>...</td><td>...</td><td>...</td><td>...</td><td>...</td><td>...</td><td>...</td><td>...</td><td>...</td><td>...</td><td>...</td><td>...</td><td>...</td><td>...</td><td>...</td><td>...</td><td>...</td></tr>\n",
       "<tr><td>0.0152</td><td>0.01508</td><td>6.0</td><td>350.0039978027</td><td>2.6336187652</td><td>43.783</td><td>6.098</td><td>4.7462</td><td>3.918</td><td>0</td><td>0.0</td><td>1.494</td><td>0.0</td><td>0.0</td><td>0.0</td><td>0.0</td><td>0.0</td><td>-1</td><td>-7.98e-06</td><td>0.0</td><td>0.05848</td><td>0.9265</td><td>0.0002291</td><td>0.009292</td><td>0.0003731</td><td>-1.0</td><td>0.01497</td><td>-10.476</td><td>-5.289</td><td>-5.481</td><td>-5.585</td><td>-5.618</td><td>-5.842</td><td>-5.866</td><td>-6.124</td><td>-6.238</td><td>-6.43</td></tr>\n",
       "<tr><td>0.0152</td><td>0.01508</td><td>6.0</td><td>350.0040588379</td><td>2.6336187652</td><td>42.059</td><td>6.08</td><td>4.7533</td><td>3.947</td><td>0</td><td>0.0</td><td>1.518</td><td>0.0</td><td>0.0</td><td>0.0</td><td>0.0</td><td>0.0</td><td>-1</td><td>-7.4e-06</td><td>0.0</td><td>0.05433</td><td>0.9307</td><td>0.0002315</td><td>0.009288</td><td>0.0003755</td><td>-1.0</td><td>0.015</td><td>-10.43</td><td>-5.182</td><td>-5.371</td><td>-5.472</td><td>-5.504</td><td>-5.729</td><td>-5.751</td><td>-6.009</td><td>-6.123</td><td>-6.315</td></tr>\n",
       "<tr><td>0.0152</td><td>0.01508</td><td>6.0</td><td>350.0040893555</td><td>2.6336187652</td><td>40.118</td><td>6.075</td><td>4.8226</td><td>4.209</td><td>0</td><td>0.0</td><td>1.541</td><td>0.0</td><td>0.0</td><td>0.0</td><td>0.0</td><td>0.0</td><td>-1</td><td>-7.05e-06</td><td>0.0</td><td>0.05105</td><td>0.9339</td><td>0.000234</td><td>0.009282</td><td>0.0003784</td><td>-1.0</td><td>0.01501</td><td>-10.418</td><td>-4.726</td><td>-5.0</td><td>-5.237</td><td>-5.324</td><td>-5.494</td><td>-5.593</td><td>-5.831</td><td>-5.962</td><td>-6.165</td></tr>\n",
       "<tr><td>0.0152</td><td>0.01508</td><td>6.0</td><td>350.004119873</td><td>2.6336187652</td><td>39.145</td><td>6.081</td><td>4.9055</td><td>4.524</td><td>0</td><td>0.0</td><td>1.408</td><td>0.0</td><td>0.0</td><td>0.0</td><td>0.0</td><td>0.0</td><td>-1</td><td>-7.22e-06</td><td>0.0</td><td>0.04614</td><td>0.9388</td><td>0.0002216</td><td>0.0093</td><td>0.0003791</td><td>-1.0</td><td>0.01501</td><td>-10.431</td><td>-4.294</td><td>-4.6</td><td>-4.825</td><td>-4.92</td><td>-5.118</td><td>-5.225</td><td>-5.494</td><td>-5.639</td><td>-5.866</td></tr>\n",
       "<tr><td>0.0152</td><td>0.01508</td><td>6.0</td><td>350.0041503906</td><td>2.6336187652</td><td>38.512</td><td>6.1</td><td>5.0472</td><td>5.064</td><td>0</td><td>0.0</td><td>1.407</td><td>0.0</td><td>0.0</td><td>0.0</td><td>0.0</td><td>0.0</td><td>-1</td><td>-7.55e-06</td><td>0.0</td><td>0.04257</td><td>0.9424</td><td>0.000222</td><td>0.009302</td><td>0.0003798</td><td>-1.0</td><td>0.01501</td><td>-10.48</td><td>-3.82</td><td>-4.126</td><td>-4.402</td><td>-4.527</td><td>-4.697</td><td>-4.866</td><td>-5.122</td><td>-5.362</td><td>-6.048</td></tr>\n",
       "<tr><td>0.0152</td><td>0.01508</td><td>6.0</td><td>350.0042114258</td><td>2.6336187652</td><td>36.157</td><td>6.06</td><td>5.0705</td><td>5.17</td><td>0</td><td>0.0</td><td>1.766</td><td>0.0</td><td>0.0</td><td>0.0</td><td>0.0</td><td>0.0</td><td>-1</td><td>-6.6e-06</td><td>0.0</td><td>0.03097</td><td>0.954</td><td>0.000248</td><td>0.009265</td><td>0.0003791</td><td>-1.0</td><td>0.01501</td><td>-10.379</td><td>-3.626</td><td>-3.938</td><td>-4.229</td><td>-4.357</td><td>-4.527</td><td>-4.702</td><td>-4.957</td><td>-5.221</td><td>-6.01</td></tr>\n",
       "<tr><td>0.0152</td><td>0.01508</td><td>6.0</td><td>350.0042724609</td><td>2.6336187652</td><td>33.778</td><td>6.025</td><td>5.0718</td><td>5.181</td><td>0</td><td>0.0</td><td>53.809</td><td>0.0</td><td>0.0</td><td>0.0</td><td>0.0</td><td>0.0</td><td>-1</td><td>-5.54e-06</td><td>0.0</td><td>0.03027</td><td>0.9253</td><td>0.02704</td><td>0.005078</td><td>0.000782</td><td>10.862</td><td>0.04446</td><td>-10.293</td><td>-3.521</td><td>-3.832</td><td>-4.123</td><td>-4.252</td><td>-4.421</td><td>-4.596</td><td>-4.851</td><td>-5.115</td><td>-5.904</td></tr>\n",
       "<tr><td>0.0152</td><td>0.01508</td><td>6.0</td><td>350.0043640137</td><td>2.6336187652</td><td>31.097</td><td>5.987</td><td>5.0682</td><td>5.168</td><td>0</td><td>0.0</td><td>35.506</td><td>0.0</td><td>0.0</td><td>0.0</td><td>0.0</td><td>0.0</td><td>-1</td><td>-3.46e-06</td><td>0.0</td><td>0.03098</td><td>0.7843</td><td>0.1581</td><td>3.237e-05</td><td>0.006958</td><td>11.614</td><td>0.1848</td><td>-10.199</td><td>-3.199</td><td>-4.085</td><td>-4.496</td><td>-4.177</td><td>-3.596</td><td>-3.996</td><td>-4.447</td><td>-4.614</td><td>-4.295</td></tr>\n",
       "<tr><td>0.0152</td><td>0.01508</td><td>6.0</td><td>350.0045166016</td><td>2.6336187652</td><td>28.509</td><td>5.955</td><td>5.0664</td><td>5.155</td><td>0</td><td>0.0</td><td>16.831</td><td>0.0</td><td>0.0</td><td>0.0</td><td>0.0</td><td>0.0</td><td>-1</td><td>-2.15e-06</td><td>0.0</td><td>0.03202</td><td>0.6582</td><td>0.2675</td><td>3.345e-05</td><td>0.02262</td><td>11.814</td><td>0.3097</td><td>-10.118</td><td>-3.118</td><td>-4.004</td><td>-4.416</td><td>-4.096</td><td>-3.515</td><td>-3.915</td><td>-4.366</td><td>-4.533</td><td>-4.214</td></tr>\n",
       "<tr><td>0.0152</td><td>0.01508</td><td>6.0</td><td>350.0046386719</td><td>2.6336187652</td><td>26.786</td><td>5.937</td><td>5.0698</td><td>5.16</td><td>0</td><td>0.0</td><td>10.127</td><td>0.0</td><td>0.0</td><td>0.0</td><td>0.0</td><td>0.0</td><td>-1</td><td>-1.41e-06</td><td>0.0</td><td>0.03297</td><td>0.5542</td><td>0.3474</td><td>3.444e-05</td><td>0.04571</td><td>11.898</td><td>0.4129</td><td>-10.073</td><td>-3.073</td><td>-3.959</td><td>-4.37</td><td>-4.051</td><td>-3.47</td><td>-3.87</td><td>-4.321</td><td>-4.488</td><td>-4.169</td></tr>\n",
       "<tr><td>0.0152</td><td>0.01508</td><td>6.0</td><td>350.0047607422</td><td>2.6336187652</td><td>25.705</td><td>5.931</td><td>5.0814</td><td>5.195</td><td>0</td><td>0.0</td><td>6.212</td><td>0.0</td><td>0.0</td><td>0.0</td><td>0.0</td><td>0.0</td><td>-1</td><td>-8.36e-07</td><td>0.0</td><td>0.03382</td><td>0.4297</td><td>0.4258</td><td>3.533e-05</td><td>0.09075</td><td>11.945</td><td>0.5365</td><td>-10.057</td><td>-3.058</td><td>-3.944</td><td>-4.355</td><td>-4.036</td><td>-3.455</td><td>-3.855</td><td>-4.306</td><td>-4.473</td><td>-4.153</td></tr>\n",
       "<tr><td>0.0152</td><td>0.01508</td><td>6.0</td><td>350.0048217773</td><td>2.6336187652</td><td>25.285</td><td>5.936</td><td>5.1031</td><td>5.27</td><td>0</td><td>0.0</td><td>5.506</td><td>0.0</td><td>0.0</td><td>0.0</td><td>0.0</td><td>0.0</td><td>-1</td><td>-8.22e-07</td><td>0.0</td><td>0.03427</td><td>0.4025</td><td>0.4395</td><td>3.58e-05</td><td>0.1038</td><td>11.944</td><td>0.5632</td><td>-10.069</td><td>-3.07</td><td>-3.956</td><td>-4.367</td><td>-4.048</td><td>-3.467</td><td>-3.867</td><td>-4.318</td><td>-4.485</td><td>-4.165</td></tr>\n",
       "<tr><td>0.0152</td><td>0.01508</td><td>6.0</td><td>350.0048522949</td><td>2.6336187652</td><td>25.089</td><td>6.037</td><td>5.2515</td><td>5.759</td><td>3</td><td>0.0</td><td>5.268</td><td>0.0</td><td>0.01</td><td>0.01</td><td>0.0</td><td>0.0</td><td>0</td><td>-1.93e-06</td><td>0.0</td><td>0.03444</td><td>0.3928</td><td>0.4434</td><td>3.597e-05</td><td>0.1095</td><td>11.942</td><td>0.5728</td><td>-10.322</td><td>-3.323</td><td>-4.209</td><td>-4.62</td><td>-4.301</td><td>-3.72</td><td>-4.12</td><td>-4.571</td><td>-4.738</td><td>-4.418</td></tr>\n",
       "</table></div>"
      ],
      "text/plain": [
       "<Table length=257>\n",
       "  Zini     MH    logAge      Mini        int_IMF      Mass    logL  ... F1130Wmag F1280Wmag F1500Wmag F1800Wmag F2100Wmag F2550Wmag\n",
       "float64 float64 float64    float64       float64    float64 float64 ...  float64   float64   float64   float64   float64   float64 \n",
       "------- ------- ------- -------------- ------------ ------- ------- ... --------- --------- --------- --------- --------- ---------\n",
       " 0.0152 0.01508     6.0   0.0900000036 1.0816895926    0.09  -1.321 ...     4.653      4.31     3.944     3.832     4.002     3.551\n",
       " 0.0152 0.01508     6.0   0.1000000015 1.1711064122     0.1  -1.221 ...     4.455     4.112     3.746     3.634     3.804     3.353\n",
       " 0.0152 0.01508     6.0   0.1098617315 1.2485734591    0.11  -1.138 ...     4.293     3.951     3.584     3.472     3.642     3.192\n",
       " 0.0152 0.01508     6.0   0.1200000122 1.3193155232    0.12  -1.057 ...     4.135     3.792     3.426     3.313     3.484     3.034\n",
       " 0.0152 0.01508     6.0    0.135400176 1.4130986479   0.135  -0.953 ...     3.932     3.589     3.223     3.111     3.282     2.832\n",
       " 0.0152 0.01508     6.0   0.1400000006 1.4384526719    0.14  -0.924 ...     3.877     3.534     3.168     3.056     3.227     2.777\n",
       " 0.0152 0.01508     6.0   0.1473688781 1.4768915552   0.147  -0.885 ...     3.802     3.459     3.093     2.981     3.153     2.702\n",
       " 0.0152 0.01508     6.0   0.1649024487 1.5590894416   0.165  -0.809 ...     3.662     3.319     2.953     2.841     3.013     2.563\n",
       " 0.0152 0.01508     6.0   0.1705176085 1.5830422133    0.17  -0.798 ...     3.645     3.302     2.936     2.824     2.996     2.546\n",
       " 0.0152 0.01508     6.0   0.1760640442 1.6057158354   0.176  -0.776 ...     3.605     3.262     2.896     2.784     2.956     2.506\n",
       " 0.0152 0.01508     6.0   0.1806975752 1.6239571335   0.181  -0.751 ...     3.558     3.216      2.85     2.738     2.909     2.459\n",
       " 0.0152 0.01508     6.0   0.1863481998 1.6453964129   0.186  -0.717 ...     3.492     3.149     2.783     2.671     2.842     2.392\n",
       "    ...     ...     ...            ...          ...     ...     ... ...       ...       ...       ...       ...       ...       ...\n",
       " 0.0152 0.01508     6.0 350.0039978027 2.6336187652  43.783   6.098 ...    -5.618    -5.842    -5.866    -6.124    -6.238     -6.43\n",
       " 0.0152 0.01508     6.0 350.0040588379 2.6336187652  42.059    6.08 ...    -5.504    -5.729    -5.751    -6.009    -6.123    -6.315\n",
       " 0.0152 0.01508     6.0 350.0040893555 2.6336187652  40.118   6.075 ...    -5.324    -5.494    -5.593    -5.831    -5.962    -6.165\n",
       " 0.0152 0.01508     6.0  350.004119873 2.6336187652  39.145   6.081 ...     -4.92    -5.118    -5.225    -5.494    -5.639    -5.866\n",
       " 0.0152 0.01508     6.0 350.0041503906 2.6336187652  38.512     6.1 ...    -4.527    -4.697    -4.866    -5.122    -5.362    -6.048\n",
       " 0.0152 0.01508     6.0 350.0042114258 2.6336187652  36.157    6.06 ...    -4.357    -4.527    -4.702    -4.957    -5.221     -6.01\n",
       " 0.0152 0.01508     6.0 350.0042724609 2.6336187652  33.778   6.025 ...    -4.252    -4.421    -4.596    -4.851    -5.115    -5.904\n",
       " 0.0152 0.01508     6.0 350.0043640137 2.6336187652  31.097   5.987 ...    -4.177    -3.596    -3.996    -4.447    -4.614    -4.295\n",
       " 0.0152 0.01508     6.0 350.0045166016 2.6336187652  28.509   5.955 ...    -4.096    -3.515    -3.915    -4.366    -4.533    -4.214\n",
       " 0.0152 0.01508     6.0 350.0046386719 2.6336187652  26.786   5.937 ...    -4.051     -3.47     -3.87    -4.321    -4.488    -4.169\n",
       " 0.0152 0.01508     6.0 350.0047607422 2.6336187652  25.705   5.931 ...    -4.036    -3.455    -3.855    -4.306    -4.473    -4.153\n",
       " 0.0152 0.01508     6.0 350.0048217773 2.6336187652  25.285   5.936 ...    -4.048    -3.467    -3.867    -4.318    -4.485    -4.165\n",
       " 0.0152 0.01508     6.0 350.0048522949 2.6336187652  25.089   6.037 ...    -4.301     -3.72     -4.12    -4.571    -4.738    -4.418"
      ]
     },
     "execution_count": 15,
     "metadata": {},
     "output_type": "execute_result"
    }
   ],
   "source": [
    "parsec_miri"
   ]
  },
  {
   "cell_type": "code",
   "execution_count": 16,
   "id": "9dba2f22-6c4f-46a1-9ae0-fd755d2646ea",
   "metadata": {},
   "outputs": [
    {
     "data": {
      "text/plain": [
       "['F560Wmag',\n",
       " 'F770Wmag',\n",
       " 'F1000Wmag',\n",
       " 'F1130Wmag',\n",
       " 'F1280Wmag',\n",
       " 'F1500Wmag',\n",
       " 'F1800Wmag',\n",
       " 'F2100Wmag',\n",
       " 'F2550Wmag']"
      ]
     },
     "execution_count": 16,
     "metadata": {},
     "output_type": "execute_result"
    }
   ],
   "source": [
    "filters_miri = parsec_miri.colnames[28:]\n",
    "filters_miri\n"
   ]
  },
  {
   "cell_type": "code",
   "execution_count": 18,
   "id": "ead8ff0c-fa90-4c07-b461-e1b75defe0ad",
   "metadata": {},
   "outputs": [
    {
     "data": {
      "text/plain": [
       "[5.6, 7.7, 10.0, 11.3, 12.8, 15.0, 18.0, 21.0, 25.5]"
      ]
     },
     "execution_count": 18,
     "metadata": {},
     "output_type": "execute_result"
    }
   ],
   "source": [
    "wl_miri= [int(filter[1:4])/100 if i<2 else int(filter[1:5])/100 for i,filter in enumerate(filters_miri) ]\n",
    "wl_miri"
   ]
  },
  {
   "cell_type": "code",
   "execution_count": 20,
   "id": "454abcb9-debd-4701-abc1-d8f023caf3b0",
   "metadata": {},
   "outputs": [
    {
     "data": {
      "text/plain": [
       "[4.472, 4.402, 4.499, 4.653, 4.31, 3.944, 3.832, 4.002, 3.551]"
      ]
     },
     "execution_count": 20,
     "metadata": {},
     "output_type": "execute_result"
    }
   ],
   "source": [
    "iso_miri_009 = list(parsec_miri[0])[28:]\n",
    "iso_miri_009"
   ]
  },
  {
   "cell_type": "code",
   "execution_count": 21,
   "id": "42974958-4ad8-403d-ba87-eb82b047873c",
   "metadata": {},
   "outputs": [
    {
     "name": "stdout",
     "output_type": "stream",
     "text": [
      "[5.939, 5.408, 5.412, 5.21, 5.172, 5.048, 4.789, 4.611, 4.474, 4.508, 4.549, 4.535, 4.472, 4.402, 4.499, 4.653, 4.31, 3.944, 3.832, 4.002, 3.551] [1.4, 1.62, 1.82, 2.1, 2.5, 3.0, 3.35, 3.6, 4.1, 4.3, 4.6, 4.8, 5.6, 7.7, 10.0, 11.3, 12.8, 15.0, 18.0, 21.0, 25.5]\n"
     ]
    }
   ],
   "source": [
    "iso_009 = iso_nircam_009 + iso_miri_009\n",
    "wl = wl_nircam + wl_miri\n",
    "print(iso_009, wl)"
   ]
  },
  {
   "cell_type": "code",
   "execution_count": 23,
   "id": "ddb604a6-ce13-4847-9ed8-682e35ed253b",
   "metadata": {},
   "outputs": [
    {
     "data": {
      "text/plain": [
       "array([26.730332  , 24.45229887, 23.45428634, 22.34594   , 21.53936554,\n",
       "       20.8731368 , 20.37710334, 20.0722712 , 19.75060778, 19.72953077,\n",
       "       19.70068762, 19.6517648 , 19.4819576 , 19.3273288 , 21.4638488 ,\n",
       "       20.7274488 , 19.7729288 , 19.5010088 , 19.7888488 , 19.8479688 ,\n",
       "       18.8660888 ])"
      ]
     },
     "execution_count": 23,
     "metadata": {},
     "output_type": "execute_result"
    }
   ],
   "source": [
    "from astroquery.svo_fps import SvoFps\n",
    "import astropy.units as u\n",
    "jfilts = SvoFps.get_filter_list('JWST')\n",
    "jfilts.add_index('filterID')\n",
    "distance_modulus = 5 * np.log10(540)\n",
    "import dust_extinction\n",
    "from dust_extinction.averages import RRP89_MWGC, CT06_MWGC, F11_MWGC, G21_MWAvg, D22_MWAvg,CT06_MWLoc\n",
    "from dust_extinction.parameter_averages import CCM89\n",
    "ext = CT06_MWLoc()\n",
    "av=30\n",
    "extcol = av * ext(wl*u.um)\n",
    "ext_009 = iso_009+distance_modulus+extcol\n",
    "ext_009"
   ]
  },
  {
   "cell_type": "code",
   "execution_count": 25,
   "id": "837b5734-f536-46dc-9032-3de3a040e585",
   "metadata": {},
   "outputs": [
    {
     "data": {
      "text/latex": [
       "$[2.618194 \\times 10^{-5},~0.00016942303,~0.00035084317,~0.00079292655,~0.0012224892,~0.0016539913,~0.0021120247,~0.0024354348,~0.0026265417,~0.0024464178,~0.0021620204,~0.0021116432,~0.0018578269,~0.0012092474,~0.00010000316,~0.00015179482,~0.00028994269,~0.00027104657,~0.0001456707,~0.00010426811,~0.00017246088] \\; \\mathrm{mJy}$"
      ],
      "text/plain": [
       "<Quantity [2.61819399e-05, 1.69423031e-04, 3.50843171e-04, 7.92926554e-04,\n",
       "           1.22248923e-03, 1.65399127e-03, 2.11202470e-03, 2.43543485e-03,\n",
       "           2.62654175e-03, 2.44641779e-03, 2.16202037e-03, 2.11164319e-03,\n",
       "           1.85782686e-03, 1.20924737e-03, 1.00003163e-04, 1.51794819e-04,\n",
       "           2.89942693e-04, 2.71046570e-04, 1.45670697e-04, 1.04268109e-04,\n",
       "           1.72460879e-04] mJy>"
      ]
     },
     "execution_count": 25,
     "metadata": {},
     "output_type": "execute_result"
    }
   ],
   "source": [
    "jfilts_loc1 = ['JWST/'+'NIRCam.'+filt[:-3] for filt in filters_nircam]\n",
    "jfilts_loc2 = ['JWST/'+'MIRI.'+filt[:-3] for filt in filters_miri]\n",
    "jfilts_loc = jfilts_loc1 + jfilts_loc2\n",
    "flux =  (10**(-ext_009/2.5)*jfilts.loc[jfilts_loc]['ZeroPoint']*u.Jy).to(u.mJy)\n",
    "flux"
   ]
  },
  {
   "cell_type": "code",
   "execution_count": 33,
   "id": "f1f1eec8-8052-40f0-8391-06ae7ce2ec89",
   "metadata": {},
   "outputs": [
    {
     "data": {
      "text/plain": [
       "array([[1.40000000e+00, 2.61819399e-05],\n",
       "       [1.62000000e+00, 1.69423031e-04],\n",
       "       [1.82000000e+00, 3.50843171e-04],\n",
       "       [2.10000000e+00, 7.92926554e-04],\n",
       "       [2.50000000e+00, 1.22248923e-03],\n",
       "       [3.00000000e+00, 1.65399127e-03],\n",
       "       [3.35000000e+00, 2.11202470e-03],\n",
       "       [3.60000000e+00, 2.43543485e-03],\n",
       "       [4.10000000e+00, 2.62654175e-03],\n",
       "       [4.30000000e+00, 2.44641779e-03],\n",
       "       [4.60000000e+00, 2.16202037e-03],\n",
       "       [4.80000000e+00, 2.11164319e-03],\n",
       "       [5.60000000e+00, 1.85782686e-03],\n",
       "       [7.70000000e+00, 1.20924737e-03],\n",
       "       [1.00000000e+01, 1.00003163e-04],\n",
       "       [1.13000000e+01, 1.51794819e-04],\n",
       "       [1.28000000e+01, 2.89942693e-04],\n",
       "       [1.50000000e+01, 2.71046570e-04],\n",
       "       [1.80000000e+01, 1.45670697e-04],\n",
       "       [2.10000000e+01, 1.04268109e-04],\n",
       "       [2.55000000e+01, 1.72460879e-04]])"
      ]
     },
     "execution_count": 33,
     "metadata": {},
     "output_type": "execute_result"
    }
   ],
   "source": [
    "np.vstack((wl,flux.value)).T"
   ]
  },
  {
   "cell_type": "code",
   "execution_count": 34,
   "id": "3e747108-b5a4-49cf-8a27-afc6056aa3c9",
   "metadata": {},
   "outputs": [],
   "source": [
    "\n",
    "np.savetxt('parsec_009.dat',np.vstack((wl,flux.value)).T,delimiter=' ', newline='\\n')"
   ]
  }
 ],
 "metadata": {
  "kernelspec": {
   "display_name": "Python (adma_env)",
   "language": "python",
   "name": "adam_env"
  },
  "language_info": {
   "codemirror_mode": {
    "name": "ipython",
    "version": 3
   },
   "file_extension": ".py",
   "mimetype": "text/x-python",
   "name": "python",
   "nbconvert_exporter": "python",
   "pygments_lexer": "ipython3",
   "version": "3.11.5"
  }
 },
 "nbformat": 4,
 "nbformat_minor": 5
}
