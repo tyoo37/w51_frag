{
 "cells": [
  {
   "cell_type": "code",
   "execution_count": 1,
   "id": "c74e59ff-8bbf-4d27-ad77-0a3e21bb07fe",
   "metadata": {},
   "outputs": [
    {
     "name": "stdout",
     "output_type": "stream",
     "text": [
      "s-pbsmi\n"
     ]
    },
    {
     "name": "stderr",
     "output_type": "stream",
     "text": [
      "/scratch/local/63687552/ipykernel_13495/2941867142.py:37: RuntimeWarning: invalid value encountered in log10\n",
      "  logmass = np.log10(masslos)\n",
      "/scratch/local/63687552/ipykernel_13495/2941867142.py:39: RuntimeWarning: invalid value encountered in log10\n",
      "  logtemp = np.log10(templos)\n"
     ]
    },
    {
     "name": "stdout",
     "output_type": "stream",
     "text": [
      "s-p-hmi\n",
      "spu-hmi\n"
     ]
    },
    {
     "name": "stderr",
     "output_type": "stream",
     "text": [
      "/scratch/local/63687552/ipykernel_13495/2941867142.py:37: RuntimeWarning: divide by zero encountered in log10\n",
      "  logmass = np.log10(masslos)\n"
     ]
    },
    {
     "name": "stdout",
     "output_type": "stream",
     "text": [
      "spubsmi\n",
      "s-pbhmi\n",
      "s-u-smi\n",
      "s-ubhmi\n"
     ]
    },
    {
     "name": "stderr",
     "output_type": "stream",
     "text": [
      "/scratch/local/63687552/ipykernel_13495/2941867142.py:43: RuntimeWarning: invalid value encountered in log10\n",
      "  logb3flux = np.log10(b3flux)\n",
      "/scratch/local/63687552/ipykernel_13495/2941867142.py:44: RuntimeWarning: invalid value encountered in log10\n",
      "  logb6flux = np.log10(b6flux)\n",
      "/scratch/local/63687552/ipykernel_13495/2941867142.py:45: RuntimeWarning: invalid value encountered in log10\n",
      "  logb7flux = np.log10(b7flux)\n"
     ]
    },
    {
     "name": "stdout",
     "output_type": "stream",
     "text": [
      "spu-smi\n",
      "s-u-hmi\n",
      "s-ubsmi\n",
      "spubhmi\n",
      "s-p-smi\n"
     ]
    },
    {
     "data": {
      "text/plain": [
       "array([ 1.07151206,  1.07151206,  1.07151206, ..., -3.11718314,\n",
       "        5.18091924,  4.64590429])"
      ]
     },
     "execution_count": 1,
     "metadata": {},
     "output_type": "execute_result"
    }
   ],
   "source": [
    "import glob\n",
    "import os\n",
    "from astropy.io import fits\n",
    "import numpy as np\n",
    "\n",
    "pathlist = glob.glob('/blue/adamginsburg/richardson.t/research/flux/robitaille_models-1.1/s*')\n",
    "geometry = [os.path.basename(path).split('/')[-1][:7] for path in pathlist]\n",
    "seddir = '/orange/adamginsburg/w51/TaehwaYoo/SEDmodel/'\n",
    "\n",
    "b3fluxarr = np.array([]) ; b6fluxarr = np.array([])\n",
    "b7fluxarr = np.array([])\n",
    "logmassarr = np.array([]) ; logtemparr = np.array([]) ; loglumarr = np.array([])\n",
    "for path in geometry: # loop over YSO geometry models\n",
    "    filepath = seddir+path+'/flux_prop.fits'\n",
    "   \n",
    "    if not os.path.isfile(filepath):\n",
    "        continue\n",
    "    fluxfile = fits.open(filepath)\n",
    "    \n",
    "    \n",
    "    cols = fluxfile[1].columns\n",
    "    if not 'mass_los' in cols.names:\n",
    "        continue\n",
    "    print(path)\n",
    "    parfilepath = '/blue/adamginsburg/richardson.t/research/flux/pars/'+ path +'_augmented.fits'\n",
    "    parfile = fits.open(parfilepath)\n",
    "    # correction of fluxes considering distances 1kpc -> 5.41 kpc (w51e)\n",
    "    # select 4th value of the aperture grid = 428 au\n",
    "    \n",
    "    b6flux = fluxfile[1].data['b6 flux'][:,3]*1e-3*(1/5.41)**2\n",
    "    b3flux = fluxfile[1].data['b3 flux'][:,3]*1e-3*(1/5.41)**2\n",
    "    b7flux = fluxfile[1].data['b7 flux'][:,3]*1e-3*(1/5.41)**2\n",
    "\n",
    "    \n",
    "    \n",
    "    masslos = fluxfile[1].data['mass_los'][:,3]\n",
    "    logmass = np.log10(masslos)\n",
    "    templos = fluxfile[1].data['temp_los'][:,3]\n",
    "    logtemp = np.log10(templos)\n",
    "    luminosity = parfile[1].data['Model Luminosity']\n",
    "    loglum = np.log10(luminosity)\n",
    "    \n",
    "    logb3flux = np.log10(b3flux) \n",
    "    logb6flux = np.log10(b6flux)\n",
    "    logb7flux = np.log10(b7flux)\n",
    "    \n",
    "    \n",
    "    logtemparr = np.append(logtemparr, logtemp)\n",
    "    logmassarr = np.append(logmassarr, logmass)\n",
    "    loglumarr = np.append(loglumarr, loglum)\n",
    "    \n",
    "    b3fluxarr = np.append(b3fluxarr,logb3flux)\n",
    "    b6fluxarr = np.append(b6fluxarr,logb6flux)\n",
    "    b7fluxarr = np.append(b7fluxarr,logb7flux)\n",
    "    \n",
    "b3fluxarr.flatten()\n",
    "b6fluxarr.flatten()\n",
    "b7fluxarr.flatten()\n",
    "logmassarr.flatten()\n",
    "logtemparr.flatten()\n",
    "loglumarr.flatten()\n",
    "\n"
   ]
  },
  {
   "cell_type": "code",
   "execution_count": 5,
   "id": "ca267103-a63d-4fee-87cf-88349e9d5c0d",
   "metadata": {},
   "outputs": [
    {
     "name": "stdout",
     "output_type": "stream",
     "text": [
      "[ 1.07151206  1.07151206  1.07151206 ... -3.11718314  5.18091924\n",
      "  4.64590429]\n"
     ]
    }
   ],
   "source": [
    "print(loglumarr)\n",
    "from sklearn.model_selection import train_test_split\n",
    "from sklearn.ensemble import RandomForestRegressor\n",
    "index = np.where((np.isfinite(b3fluxarr))&\n",
    "                 (np.isfinite(b6fluxarr))&\n",
    "                 (np.isfinite(logmassarr)))[0]\n",
    "X = np.vstack((b3fluxarr[index], b6fluxarr[index]-b3fluxarr[index])).T\n",
    "y = logmassarr[index]\n",
    "X_train, X_test, y_train, y_test = train_test_split(X, y, random_state=0)\n"
   ]
  },
  {
   "cell_type": "code",
   "execution_count": 6,
   "id": "84144043-b16b-4c04-81e2-787eda50dfe7",
   "metadata": {},
   "outputs": [
    {
     "data": {
      "text/plain": [
       "0.9544840402022634"
      ]
     },
     "execution_count": 6,
     "metadata": {},
     "output_type": "execute_result"
    }
   ],
   "source": [
    "model = RandomForestRegressor(n_estimators=500, max_depth=20,oob_score=True, n_jobs=-1)\n",
    "model.fit(X_train, y_train)\n",
    "model.score(X_test, y_test)"
   ]
  },
  {
   "cell_type": "code",
   "execution_count": null,
   "id": "7a8a48b8-e2d7-4ad2-bc56-45532f4c7008",
   "metadata": {},
   "outputs": [],
   "source": []
  },
  {
   "cell_type": "code",
   "execution_count": 7,
   "id": "371b31ec-438c-4902-992d-fc91adc492c2",
   "metadata": {},
   "outputs": [],
   "source": [
    "import matplotlib.pyplot as plt\n",
    "\n",
    "plt.rcParams['xtick.labelsize']=20\n",
    "plt.rcParams['ytick.labelsize']=20\n",
    "plt.rcParams['axes.titlesize']=20\n",
    "plt.rcParams['axes.labelsize']=20\n",
    "err_log = np.abs(y_test - model.predict(X_test))/y_test\n",
    "err = np.abs(10**y_test - 10**model.predict(X_test))/10**y_test\n",
    "\n",
    "\n",
    "\n"
   ]
  },
  {
   "cell_type": "code",
   "execution_count": 8,
   "id": "a1d46a30-9ba5-49bb-8c66-9118f598528f",
   "metadata": {},
   "outputs": [
    {
     "data": {
      "text/plain": [
       "0.9744435079439157"
      ]
     },
     "execution_count": 8,
     "metadata": {},
     "output_type": "execute_result"
    }
   ],
   "source": [
    "index = np.where((np.isfinite(b3fluxarr))&\n",
    "                 (np.isfinite(b6fluxarr))&\n",
    "                 (np.isfinite(b7fluxarr))&\n",
    "                 (np.isfinite(logmassarr)))[0]\n",
    "X = np.vstack((b3fluxarr[index], b6fluxarr[index]-b3fluxarr[index], b7fluxarr[index]-b6fluxarr[index])).T\n",
    "y = logmassarr[index]\n",
    "X_train, X_test, y_train, y_test = train_test_split(X, y, random_state=0)\n",
    "model2 = RandomForestRegressor(n_estimators=500, max_depth=20,oob_score=True, n_jobs=-1)\n",
    "model2.fit(X_train, y_train)\n",
    "model2.score(X_test, y_test)\n",
    "\n",
    "\n"
   ]
  },
  {
   "cell_type": "code",
   "execution_count": 9,
   "id": "0fe1cb89-e3fd-4ac4-9064-a3b2c677d1c8",
   "metadata": {},
   "outputs": [],
   "source": [
    "err_log2 = np.abs(y_test - model2.predict(X_test))/y_test\n",
    "err2 = np.abs(10**y_test - 10**model2.predict(X_test))/10**y_test\n"
   ]
  },
  {
   "cell_type": "code",
   "execution_count": 10,
   "id": "ee11d669-32d5-4be3-98c9-4862945c4ee1",
   "metadata": {},
   "outputs": [
    {
     "name": "stdout",
     "output_type": "stream",
     "text": [
      "81397.80999821948 15.42115302255065 48881.61806301173 2.9846222842256727\n",
      "0.25230690327900823 -0.032562828997479296 0.08757197760270521 -0.008545174648308871\n"
     ]
    },
    {
     "data": {
      "image/png": "[encoded data removed]",
      "text/plain": [
       "<Figure size 720x576 with 1 Axes>"
      ]
     },
     "metadata": {
      "needs_background": "light"
     },
     "output_type": "display_data"
    }
   ],
   "source": [
    "fig = plt.figure(figsize=(10,8))\n",
    "ax1 = fig.add_axes([0.1,0.1,0.8,0.8])\n",
    "logbins = np.logspace(-3,3,35)\n",
    "ax1.hist(err, bins=logbins, label='two bands', histtype='stepfilled',facecolor='None',edgecolor='b')\n",
    "ax1.hist(err2, bins=logbins, label='three bands', histtype='stepfilled',facecolor='None',edgecolor='orange')\n",
    "ax1.set_xlabel('error')\n",
    "ax1.set_ylabel('#')\n",
    "ax1.set_xscale('log')\n",
    "\n",
    "ax1.legend()\n",
    "print(np.mean(err),np.mean(err_log),np.mean(err2),np.mean(err_log2))\n",
    "print(np.median(err),np.median(err_log),np.median(err2),np.median(err_log2))"
   ]
  },
  {
   "cell_type": "code",
   "execution_count": 11,
   "id": "674edb54-b263-46d8-8a7a-3a6ed848451b",
   "metadata": {},
   "outputs": [
    {
     "data": {
      "text/plain": [
       "<matplotlib.legend.Legend at 0x2b12f8542100>"
      ]
     },
     "execution_count": 11,
     "metadata": {},
     "output_type": "execute_result"
    },
    {
     "data": {
      "image/png": "[encoded data removed]",
      "text/plain": [
       "<Figure size 720x576 with 1 Axes>"
      ]
     },
     "metadata": {
      "needs_background": "light"
     },
     "output_type": "display_data"
    }
   ],
   "source": [
    "fig = plt.figure(figsize=(10,8))\n",
    "ax1 = fig.add_axes([0.1,0.1,0.8,0.8])\n",
    "logbins = np.logspace(-3,3,35)\n",
    "ax1.hist(err_log, bins=logbins, label='two bands', histtype='stepfilled',facecolor='None',edgecolor='b')\n",
    "ax1.hist(err_log2, bins=logbins, label='three bands', histtype='stepfilled',facecolor='None',edgecolor='orange')\n",
    "ax1.set_xlabel('error')\n",
    "ax1.set_ylabel('#')\n",
    "ax1.set_xscale('log')\n",
    "\n",
    "ax1.legend()\n"
   ]
  },
  {
   "cell_type": "code",
   "execution_count": null,
   "id": "057bb949-651d-452f-9cd6-173bd7033509",
   "metadata": {},
   "outputs": [],
   "source": []
  }
 ],
 "metadata": {
  "kernelspec": {
   "display_name": "Python 3 (ipykernel)",
   "language": "python",
   "name": "python3"
  },
  "language_info": {
   "codemirror_mode": {
    "name": "ipython",
    "version": 3
   },
   "file_extension": ".py",
   "mimetype": "text/x-python",
   "name": "python",
   "nbconvert_exporter": "python",
   "pygments_lexer": "ipython3",
   "version": "3.9.12"
  }
 },
 "nbformat": 4,
 "nbformat_minor": 5
}
