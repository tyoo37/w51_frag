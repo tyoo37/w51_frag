{
 "cells": [
  {
   "cell_type": "code",
   "execution_count": 4,
   "id": "5b7f5a3a-1096-41a4-aae6-48cd0c08bad9",
   "metadata": {},
   "outputs": [
    {
     "name": "stdout",
     "output_type": "stream",
     "text": [
      "s-pbsmi\n",
      "s-p-hmi\n",
      "spu-hmi\n",
      "spubsmi\n",
      "s-pbhmi\n",
      "s-u-smi\n",
      "s-ubhmi\n",
      "spu-smi\n",
      "s-u-hmi\n",
      "s-ubsmi\n",
      "sp--hmi\n",
      "sp--s-i\n",
      "spubhmi\n",
      "s---smi\n",
      "sp--smi\n",
      "s-p-smi\n",
      "sp--h-i\n"
     ]
    }
   ],
   "source": [
    "from __future__ import print_function, division\n",
    "\n",
    "import os\n",
    "import glob\n",
    "import numpy as np\n",
    "\n",
    "seddir = '/orange/adamginsburg/w51/TaehwaYoo/SEDmodel_new/'\n",
    "\n",
    "pathlist = glob.glob('/blue/adamginsburg/richardson.t/research/flux/r+24_models-1.2/s*')\n",
    "geometry = [os.path.basename(path).split('/')[-1][:7] for path in pathlist]\n",
    "version = '1.2'\n",
    "\n",
    "TEMPLATE = \"\"\"name = {name}\n",
    "# Robitaille (2017) YSO SED models v{version}\n",
    "# https://doi.org/10.5281/zenodo.166732\n",
    "length_subdir = 2\n",
    "aperture_dependent = yes\n",
    "logd_step = 0.02\n",
    "version = 2\n",
    "\"\"\"\n",
    "for model_dir in geometry:\n",
    "    if not os.path.isdir(seddir+model_dir):\n",
    "        os.system('mkdir '+seddir+model_dir)\n",
    "        with open(os.path.join(seddir+model_dir, 'models.conf'), 'w') as f:\n",
    "            print(model_dir)\n",
    "            f.write(TEMPLATE.format(name=os.path.basename(seddir+model_dir),version=version))\n",
    "\n",
    "\n",
    "\n"
   ]
  },
  {
   "cell_type": "code",
   "execution_count": null,
   "id": "88ca2fc8-e6a6-4f78-a055-4af60490ceae",
   "metadata": {},
   "outputs": [],
   "source": []
  }
 ],
 "metadata": {
  "kernelspec": {
   "display_name": "Python 3 (ipykernel)",
   "language": "python",
   "name": "python3"
  },
  "language_info": {
   "codemirror_mode": {
    "name": "ipython",
    "version": 3
   },
   "file_extension": ".py",
   "mimetype": "text/x-python",
   "name": "python",
   "nbconvert_exporter": "python",
   "pygments_lexer": "ipython3",
   "version": "3.9.12"
  }
 },
 "nbformat": 4,
 "nbformat_minor": 5
}
