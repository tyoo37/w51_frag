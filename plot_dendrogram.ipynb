{
 "cells": [
  {
   "cell_type": "markdown",
   "id": "3bfe6835-682e-45ce-a3e9-e3e4efd3d866",
   "metadata": {},
   "source": [
    "### load image file"
   ]
  },
  {
   "cell_type": "code",
   "execution_count": 1,
   "id": "33faf80f-8b78-46ef-9837-ac555669317d",
   "metadata": {},
   "outputs": [
    {
     "name": "stdout",
     "output_type": "stream",
     "text": [
      "<dendrocat.radiosource.RadioSource object at 0x2acdb254e880>\n"
     ]
    }
   ],
   "source": [
    "import matplotlib.pyplot as plt\n",
    "\n",
    "def projection_plot(ax, data, cmap='viridis'):\n",
    "    ax.imshow(data, cmap=cmap, origin='lower')\n"
   ]
  },
  {
   "cell_type": "code",
   "execution_count": null,
   "id": "51461a9e-6f8c-4cf8-a03a-6c9ff79bdc0c",
   "metadata": {},
   "outputs": [],
   "source": []
  }
 ],
 "metadata": {
  "kernelspec": {
   "display_name": "Python 3 (ipykernel)",
   "language": "python",
   "name": "python3"
  },
  "language_info": {
   "codemirror_mode": {
    "name": "ipython",
    "version": 3
   },
   "file_extension": ".py",
   "mimetype": "text/x-python",
   "name": "python",
   "nbconvert_exporter": "python",
   "pygments_lexer": "ipython3",
   "version": "3.9.12"
  }
 },
 "nbformat": 4,
 "nbformat_minor": 5
}
