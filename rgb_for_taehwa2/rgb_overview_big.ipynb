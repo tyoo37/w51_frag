{
 "cells": [
  {
   "cell_type": "code",
   "execution_count": 1,
   "metadata": {},
   "outputs": [
    {
     "name": "stdout",
     "output_type": "stream",
     "text": [
      "Intel MKL WARNING: Support of Intel(R) Streaming SIMD Extensions 4.2 (Intel(R) SSE4.2) enabled only processors has been deprecated. Intel oneAPI Math Kernel Library 2025.0 will require Intel(R) Advanced Vector Extensions (Intel(R) AVX) instructions.\n",
      "Intel MKL WARNING: Support of Intel(R) Streaming SIMD Extensions 4.2 (Intel(R) SSE4.2) enabled only processors has been deprecated. Intel oneAPI Math Kernel Library 2025.0 will require Intel(R) Advanced Vector Extensions (Intel(R) AVX) instructions.\n"
     ]
    },
    {
     "name": "stderr",
     "output_type": "stream",
     "text": [
      "WARNING: VerifyWarning: Invalid 'BLANK' keyword in header.  The 'BLANK' keyword is only applicable to integer data, and will be ignored in this HDU. [astropy.io.fits.hdu.image]\n",
      "WARNING: FITSFixedWarning: 'datfix' made the change 'Set MJD-OBS to 51544.500000 from DATE-OBS'. [astropy.wcs.wcs]\n",
      "WARNING: VerifyWarning: Verification reported errors: [astropy.io.fits.verify]\n",
      "WARNING: VerifyWarning: Card 'CUNIT1 ' is not FITS standard (equal sign not at column 8).  Fixed 'CUNIT1 ' card to meet the FITS standard. [astropy.io.fits.verify]\n",
      "WARNING: VerifyWarning: Unfixable error: Illegal keyword name 'CUNIT1 ' [astropy.io.fits.verify]\n",
      "WARNING: VerifyWarning: Note: astropy.io.fits uses zero-based indexing.\n",
      " [astropy.io.fits.verify]\n",
      "WARNING: VerifyWarning: Card 'CUNIT2 ' is not FITS standard (equal sign not at column 8).  Fixed 'CUNIT2 ' card to meet the FITS standard. [astropy.io.fits.verify]\n",
      "WARNING: VerifyWarning: Unfixable error: Illegal keyword name 'CUNIT2 ' [astropy.io.fits.verify]\n"
     ]
    },
    {
     "name": "stdout",
     "output_type": "stream",
     "text": [
      "hoho\n",
      "<SkyCoord (FK5: equinox=J2000.000): (ra, dec) in deg\n",
      "    (290.60960111, 14.2883225)>\n"
     ]
    },
    {
     "name": "stderr",
     "output_type": "stream",
     "text": [
      "WARNING: FITSFixedWarning: 'datfix' made the change 'Set MJD-OBS to 52580.000000 from DATE-OBS'. [astropy.wcs.wcs]\n",
      "WARNING: FITSFixedWarning: 'spcfix' made the change 'Changed SPECSYS to 'TOPOCENT''. [astropy.wcs.wcs]\n"
     ]
    },
    {
     "name": "stdout",
     "output_type": "stream",
     "text": [
      "[[nan nan nan ... nan nan nan]\n",
      " [nan nan nan ... nan nan nan]\n",
      " [nan nan nan ... nan nan nan]\n",
      " ...\n",
      " [nan nan nan ... nan nan nan]\n",
      " [nan nan nan ... nan nan nan]\n",
      " [nan nan nan ... nan nan nan]]\n",
      "(1, 1, 4096, 4096) (4096, 4096) (4096, 4096)\n",
      "RA---SIN\n"
     ]
    },
    {
     "data": {
      "text/plain": [
       "'\\n\\n\\noutfn = \"RGB_90cm_CO_ATLASGAL.png\"\\nim = PIL.Image.fromarray((rgb_crop*255).astype(\\'uint8\\')[::-1,:])\\nim.save(outfn)\\navm.embed(outfn, outfn)\\n\\npl.figure(1).clf()\\npl.imshow(im)\\n\\npl.matplotlib.rc_file(\\'pubfiguresrc\\')\\n\\npl.figure(2).clf()\\nFF = aplpy.FITSFigure(outfn, figure=pl.figure(2))\\nFF.show_rgb(outfn)\\nFF.set_tick_labels_format(\\'dd.d\\',\\'dd.d\\')\\nFF.save(\\'aplpy_\\'+outfn)\\n\\nFF.add_scalebar(((10*u.pc)/(5.1*u.kpc)*u.radian).to(u.deg).value)\\nFF.scalebar.set_label(\"10 pc\")\\nFF.scalebar.set_font_size(18)\\nFF.scalebar.set_font_weight(\\'bold\\')\\nFF.scalebar.set_color(\\'w\\')\\nFF.scalebar.set_linewidth(3)\\nFF.save(\\'aplpy_scalebar_\\'+outfn)\\n'"
      ]
     },
     "execution_count": 1,
     "metadata": {},
     "output_type": "execute_result"
    },
    {
     "data": {
      "image/png": "[encoded data removed]",
      "text/plain": [
       "<Figure size 640x480 with 1 Axes>"
      ]
     },
     "metadata": {},
     "output_type": "display_data"
    }
   ],
   "source": [
    "import pyavm\n",
    "from astropy import units as u\n",
    "#import aplpy\n",
    "import numpy as np\n",
    "#import copy\n",
    "#import matplotlib\n",
    "from astropy.io import fits\n",
    "from astropy import wcs\n",
    "import reproject\n",
    "#import pylab as pl\n",
    "#import PIL\n",
    "#from PIL import ImageEnhance\n",
    "import matplotlib.pyplot as plt\n",
    "import os\n",
    "from astropy.io import fits\n",
    "from astropy.coordinates import SkyCoord\n",
    "\n",
    "b1 = fits.open('AG-Laboca-Planck.49.5.fits')\n",
    "b2 = fits.open('W51_90cm_CDBB.fits')[0]\n",
    "b3 = fits.open('grs_13CO_max_30to90kms.fits')\n",
    "hdr = fits.Header.fromtextfile('hdr_new.hdr')\n",
    "print('hoho')\n",
    "\n",
    "#b1d,_ = reproject.reproject_interp(b1, hdr)\n",
    "#b2d,_ = reproject.reproject_interp((b2.data, wcs.WCS(b2.header).celestial), hdr)\n",
    "#b3d,_ = reproject.reproject_interp(b3, hdr)\n",
    "\n",
    "\n",
    "b1d,_ = reproject.reproject_interp(b1, hdr)\n",
    "b2d,_ = reproject.reproject_interp((b2.data, wcs.WCS(b2.header).celestial), hdr)\n",
    "b3d,_ = reproject.reproject_interp(b3, hdr)\n",
    "\n",
    "print(b1d)\n",
    "\n",
    "def linearize(x, xmin=None, xmax=None, truncate=True):\n",
    "    if np.isscalar(x):\n",
    "        return x\n",
    "    else:\n",
    "        if xmin is None:\n",
    "            xmin = np.nanmin(x)\n",
    "        if xmax is None:\n",
    "            xmax = np.nanmax(x)\n",
    "        if truncate:\n",
    "            x = np.copy(x)\n",
    "            x[x<xmin] = xmin\n",
    "            x[x>xmax] = xmax\n",
    "        return ((x-xmin)/(xmax-xmin))\n",
    "\n",
    "def logscale(arr, logexp=3.0, toint=True, relinearize=True, **kwargs):\n",
    "    linarr = linearize(arr, **kwargs)\n",
    "    if logexp is None:\n",
    "        logarr = linarr\n",
    "    else:\n",
    "        logarr = np.log10(linarr * 10**logexp + 1)\n",
    "    if relinearize:\n",
    "        return linearize(logarr)\n",
    "    elif toint:\n",
    "        lla = linearize(logarr)*255\n",
    "        return lla.astype('uint8')\n",
    "    else:\n",
    "        return logarr\n",
    "\n",
    "def expscale(arr, exp=2, toint=True, **kwargs):\n",
    "    linarr = linearize(arr, **kwargs)\n",
    "    if toint:\n",
    "        lla = linearize(linarr**exp)*255\n",
    "        return lla.astype('uint8')\n",
    "    else:\n",
    "        return linarr**exp\n",
    "\n",
    "\n",
    "red = linearize(b2d, xmin=-0.05, xmax=0.2) * 0.75 + linearize(b2d, xmin=0.2, xmax=0.7)*0.25\n",
    "#red = linearize(b2d, xmin=0.01, xmax=0.2)\n",
    "green = (linearize(b3d, 0, 7))\n",
    "blue = linearize(b1d,0,0.5) * 0.5 + logscale(b1d, xmin=0.5, xmax=50, toint=False)*0.5\n",
    "#blue = logscale(b1d, xmin=0.10, xmax=10, toint=False)\n",
    "print(red.shape, green.shape, blue.shape)\n",
    "rgb = np.array([red[0][0],green,blue]).T.swapaxes(0,1)\n",
    "slices = slice(300,1300), slice(400,1600), slice(None) #[300:1300,400:1600]\n",
    "rgb_crop = rgb[slices]\n",
    "\n",
    "mywcs = wcs.WCS(hdr)[slices[:2]]\n",
    "#avm = pyavm.AVM.from_wcs(mywcs)\n",
    "hdr = mywcs.to_header()\n",
    "plt.imshow(rgb_crop)\n",
    "print(hdr[\"CTYPE1\"])\n",
    "\n",
    "hdu = fits.PrimaryHDU(data=rgb_crop, header=hdr)\n",
    "hdul = fits.HDUList([hdu])\n",
    "hdul.writeto('w51_rgb.fits', overwrite=True)\n",
    "\n",
    "\n",
    "\n",
    "\n",
    "\"\"\"\n",
    "\n",
    "\n",
    "outfn = \"RGB_90cm_CO_ATLASGAL.png\"\n",
    "im = PIL.Image.fromarray((rgb_crop*255).astype('uint8')[::-1,:])\n",
    "im.save(outfn)\n",
    "avm.embed(outfn, outfn)\n",
    "\n",
    "pl.figure(1).clf()\n",
    "pl.imshow(im)\n",
    "\n",
    "pl.matplotlib.rc_file('pubfiguresrc')\n",
    "\n",
    "pl.figure(2).clf()\n",
    "FF = aplpy.FITSFigure(outfn, figure=pl.figure(2))\n",
    "FF.show_rgb(outfn)\n",
    "FF.set_tick_labels_format('dd.d','dd.d')\n",
    "FF.save('aplpy_'+outfn)\n",
    "\n",
    "FF.add_scalebar(((10*u.pc)/(5.1*u.kpc)*u.radian).to(u.deg).value)\n",
    "FF.scalebar.set_label(\"10 pc\")\n",
    "FF.scalebar.set_font_size(18)\n",
    "FF.scalebar.set_font_weight('bold')\n",
    "FF.scalebar.set_color('w')\n",
    "FF.scalebar.set_linewidth(3)\n",
    "FF.save('aplpy_scalebar_'+outfn)\n",
    "\"\"\""
   ]
  },
  {
   "cell_type": "code",
   "execution_count": 2,
   "metadata": {},
   "outputs": [],
   "source": [
    "#"
   ]
  }
 ],
 "metadata": {
  "kernelspec": {
   "display_name": "py312",
   "language": "python",
   "name": "python3"
  },
  "language_info": {
   "codemirror_mode": {
    "name": "ipython",
    "version": 3
   },
   "file_extension": ".py",
   "mimetype": "text/x-python",
   "name": "python",
   "nbconvert_exporter": "python",
   "pygments_lexer": "ipython3",
   "version": "3.12.2"
  }
 },
 "nbformat": 4,
 "nbformat_minor": 2
}
